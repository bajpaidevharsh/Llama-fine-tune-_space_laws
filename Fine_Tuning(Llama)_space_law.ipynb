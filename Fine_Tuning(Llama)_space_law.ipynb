{
 "cells": [
  {
   "cell_type": "code",
   "execution_count": 22,
   "metadata": {
    "id": "QYXkluMJQOUa"
   },
   "outputs": [],
   "source": [
    "import pandas\n",
    "import numpy"
   ]
  },
  {
   "cell_type": "code",
   "execution_count": 23,
   "metadata": {
    "id": "CZ-HB85mQ7jI"
   },
   "outputs": [],
   "source": [
    "data=pandas.read_csv('/content/data.csv')"
   ]
  },
  {
   "cell_type": "code",
   "execution_count": 24,
   "metadata": {
    "colab": {
     "base_uri": "https://localhost:8080/",
     "height": 167
    },
    "id": "vaoZlFPeRAyE",
    "outputId": "5ec097d8-7794-4683-bfae-a359f192b988"
   },
   "outputs": [
    {
     "data": {
      "application/vnd.google.colaboratory.intrinsic+json": {
       "summary": "{\n  \"name\": \"data\",\n  \"rows\": 901,\n  \"fields\": [\n    {\n      \"column\": \"id\",\n      \"properties\": {\n        \"dtype\": \"string\",\n        \"num_unique_values\": 901,\n        \"samples\": [\n          \"bdd80cb5-0050-4169-a4e1-bdadbdeaaba1\",\n          \"fbebc0ea-e65b-461c-8507-d1067f05f937\",\n          \"2344cba8-f5d5-4d24-800d-12abf71eec99\"\n        ],\n        \"semantic_type\": \"\",\n        \"description\": \"\"\n      }\n    },\n    {\n      \"column\": \"topic\",\n      \"properties\": {\n        \"dtype\": \"category\",\n        \"num_unique_values\": 23,\n        \"samples\": [\n          \"Orbital Mechanics\",\n          \"Planetary Science and Exploration\",\n          \"Space Law\"\n        ],\n        \"semantic_type\": \"\",\n        \"description\": \"\"\n      }\n    },\n    {\n      \"column\": \"subtopic\",\n      \"properties\": {\n        \"dtype\": \"category\",\n        \"num_unique_values\": 184,\n        \"samples\": [\n          \"Collision Avoidance Manoeuvres\",\n          \"Nozzle Designs\",\n          \"Data Downlink and Communication Interfaces\"\n        ],\n        \"semantic_type\": \"\",\n        \"description\": \"\"\n      }\n    },\n    {\n      \"column\": \"persona\",\n      \"properties\": {\n        \"dtype\": \"category\",\n        \"num_unique_values\": 11,\n        \"samples\": [\n          \"a college student who uses slang and abbreviates words, in expression of young man and women, and usually seeking quick info for projects, and often not using the right technical vocabulary and word to ask the question\",\n          \"a busy person, needing quick and efficient answers, who doesn't like monolog or long speeches always asking for very short or conicse info, actionable, and straight to the point\",\n          \"an expert of the domain, asking for very specific and detailed information, and often using domain jargon, acronyms, abbreviation and technical terms\"\n        ],\n        \"semantic_type\": \"\",\n        \"description\": \"\"\n      }\n    },\n    {\n      \"column\": \"opening_question\",\n      \"properties\": {\n        \"dtype\": \"string\",\n        \"num_unique_values\": 901,\n        \"samples\": [\n          \"What are the main things to think about when setting up a flight control team to make sure they crush it on missions?\",\n          \"Could you detail the specific challenges of long-term fuel storage in the harsh conditions of space?\",\n          \"Could you explain how vibration tests are performed on aerospace structures and what the main goals of these tests are?\"\n        ],\n        \"semantic_type\": \"\",\n        \"description\": \"\"\n      }\n    },\n    {\n      \"column\": \"messages\",\n      \"properties\": {\n        \"dtype\": \"string\",\n        \"num_unique_values\": 901,\n        \"samples\": [\n          \"[{'role': 'user', 'content': 'What are the main things to think about when setting up a flight control team to make sure they crush it on missions?'}, {'role': 'assistant', 'content': \\\"When setting up a flight control team to excel in missions, consider the following key aspects:\\\\n\\\\n1. **Expertise and Training**: Ensure team members possess specialized knowledge across all mission-critical domains (navigation, engineering, communications, etc.) and undergo rigorous, continuous training to handle normal operations, emergencies, and anomalies.\\\\n\\\\n2. **Roles and Responsibilities**: Clearly define roles and responsibilities for each team member, ensuring comprehensive coverage of all mission aspects without overlaps that could cause confusion or gaps that might leave areas unmonitored.\\\\n\\\\n3. **Communication**: Establish robust, clear, and efficient communication protocols both within the flight control team and with astronauts, other ground teams, and external agencies. This includes using precise terminology and maintaining open lines for real-time information exchange.\\\\n\\\\n4. **Decision-Making Processes**: Implement structured decision-making processes that allow for quick, informed, and consensus-based decisions, especially in critical situations. This includes predefined criteria for escalating issues and involving higher-level management.\\\\n\\\\n5. **Simulation and Training**: Conduct regular and comprehensive simulation exercises that cover a range of scenarios, from routine operations to worst-case emergencies. This helps in honing the team's skills, improving teamwork, and testing protocols.\\\\n\\\\n6. **Mental and Physical Wellbeing**: Recognize the high-stress nature of flight control operations and provide support for the mental and physical wellbeing of team members. This could include shift work considerations, stress management resources, and fostering a supportive team environment.\\\\n\\\\n7. **Technology and Tools**: Equip the team with state-of-the-art technology and tools for monitoring, communication, and data analysis. Ensure systems are redundant, reliable, and have backup options in case of failure.\\\\n\\\\n8. **Continuous Improvement**: Foster a culture of continuous improvement through regular debriefings, lessons learned sessions, and incorporating feedback into operational procedures and training programs.\\\\n\\\\nBy focusing on these areas, a flight control team can be well-prepared to support successful space missions, effectively manage unexpected challenges, and ensure the safety and success of the mission and its crew.\\\"}, {'role': 'user', 'content': \\\"Yo, that's some detailed info on setting up a flight control team! But like, how do they actually handle emergencies during a mission? Do they have like specific protocols or something?\\\"}, {'role': 'assistant', 'content': \\\"Yes, flight control teams handle emergencies during missions by following specific protocols designed to address various contingencies. Here's a concise overview of how they manage such situations:\\\\n\\\\n1. **Predefined Procedures**: For known potential emergencies (e.g., system failures, loss of communication, medical emergencies), there are detailed, predefined procedures that the team follows. These procedures are developed through extensive analysis, simulations, and experience from past missions.\\\\n\\\\n2. **Simulation Training**: Team members undergo rigorous simulation training that includes emergency scenarios, ensuring they can respond effectively under pressure. This training helps in internalizing response protocols and improving teamwork during crises.\\\\n\\\\n3. **Real-Time Problem Solving**: For unforeseen issues, the team employs structured problem-solving techniques, leveraging their collective expertise and available data. This might involve brainstorming, rapid prototyping of solutions, and consulting with external experts if necessary.\\\\n\\\\n4. **Decision Hierarchy**: Clear decision-making hierarchies ensure that, during an emergency, decisions are made efficiently and by the appropriate personnel. This includes knowing when to escalate issues to higher-level officials or specialists.\\\\n\\\\n5. **Communication Protocols**: Maintaining clear and constant communication with the crew in space is crucial. The team uses established communication protocols to provide instructions, gather information, and reassure the crew.\\\\n\\\\n6. **Safety First**: The primary focus is always on the safety of the crew and the spacecraft. Decisions are made with this priority in mind, sometimes requiring difficult choices, such as aborting missions or activating emergency return procedures.\\\\n\\\\n7. **Debrief and Learn**: After managing an emergency, the team conducts a thorough debrief to analyze the response, document lessons learned, and update procedures to better handle similar situations in the future.\\\\n\\\\nBy adhering to these protocols and approaches, flight control teams are equipped to manage emergencies effectively, ensuring the best possible outcomes under challenging circumstances.\\\"}]\",\n          \"[{'role': 'user', 'content': 'Could you detail the specific challenges of long-term fuel storage in the harsh conditions of space?'}, {'role': 'assistant', 'content': 'Long-term fuel storage in space faces several challenges due to the harsh conditions, including:\\\\n\\\\n1. **Extreme Temperatures**: Spacecraft can experience extreme temperatures, leading to fuel freezing or boiling off. This requires insulation and heating or cooling systems to maintain fuel at usable temperatures.\\\\n\\\\n2. **Microgravity**: In microgravity, managing liquid fuel becomes complex as it does not settle at the bottom of tanks. Special fuel management techniques, such as surface tension-based systems, are necessary to ensure fuel delivery to engines.\\\\n\\\\n3. **Radiation**: High levels of cosmic and solar radiation can degrade certain types of fuel or fuel system components over time, necessitating radiation-resistant materials.\\\\n\\\\n4. **Vacuum Conditions**: The vacuum of space can lead to the evaporation of volatile components in fuel. Seals and materials must be designed to prevent leakage and evaporation.\\\\n\\\\n5. **Longevity and Reliability**: Space missions can last years, requiring fuel systems that are highly reliable over long periods without maintenance.\\\\n\\\\n6. **Safety and Containment**: Ensuring the safe storage of fuel, particularly cryogenic or highly reactive propellants, is critical to prevent accidents. This involves robust containment systems and safety protocols.\\\\n\\\\nAddressing these challenges requires innovative engineering solutions and materials to ensure that spacecraft can operate effectively over their intended lifespans.'}, {'role': 'user', 'content': 'How do spacecraft typically address the challenge of extreme temperatures in long-term fuel storage?'}, {'role': 'assistant', 'content': 'Spacecraft address the challenge of extreme temperatures in long-term fuel storage through several key strategies:\\\\n\\\\n1. **Insulation**: High-performance insulation materials, such as multi-layer insulation (MLI) blankets, are used to minimize thermal exchange between the fuel tanks and the space environment. This helps keep fuel at stable temperatures.\\\\n\\\\n2. **Active Thermal Control Systems**: These systems include heaters and coolers to actively regulate the temperature of the fuel tanks. Heaters can prevent fuel from freezing, while coolers can prevent volatile fuels from boiling off.\\\\n\\\\n3. **Passive Thermal Control**: This involves designing spacecraft components and orientations to naturally balance the thermal input from the Sun and the cold of deep space. For example, placing fuel tanks in locations that minimize exposure to solar radiation.\\\\n\\\\n4. **Phase Change Materials (PCMs)**: PCMs can absorb or release heat at specific temperatures, helping to maintain a stable temperature within fuel tanks.\\\\n\\\\n5. **Cryogenic Fluid Management Technologies**: For cryogenic fuels, advanced technologies like zero boil-off systems, cryocoolers, or venting strategies are employed to manage the boil-off rates without losing significant amounts of fuel.\\\\n\\\\nBy integrating these strategies, spacecraft can maintain fuel integrity and availability, even in the extreme thermal environment of space.'}]\",\n          \"[{'role': 'user', 'content': 'Could you explain how vibration tests are performed on aerospace structures and what the main goals of these tests are?'}, {'role': 'assistant', 'content': 'Vibration tests on aerospace structures are typically performed using electrodynamic or hydraulic shakers that simulate the dynamic loads an aircraft or spacecraft might experience during its lifecycle, such as takeoff, landing, and flight through turbulence, or a rocket during launch. These tests can be conducted on components, subsystems, or entire structures.\\\\n\\\\nThe process involves attaching the structure to a shaker platform or fixture, which then subjects it to controlled vibrational forces that mimic real-world conditions. Sensors and accelerometers are placed on critical points of the structure to measure response to the vibrations, including amplitude, frequency, and phase of the response.\\\\n\\\\nThe main goals of vibration testing are to:\\\\n\\\\n1. **Validate Structural Integrity:** Ensure that the structure can withstand the vibrational loads it will encounter without failing or experiencing unacceptable levels of wear or fatigue.\\\\n2. **Predict Operational Performance:** Assess how components or systems will behave under specific vibrational conditions to ensure they meet operational requirements.\\\\n3. **Identify Resonant Frequencies:** Determine the natural frequencies of the structure to avoid resonance phenomena that could lead to catastrophic failure.\\\\n4. **Refine Analytical Models:** Provide data to validate and refine computational models that predict how structures will respond to dynamic loads, improving future design and testing processes.'}, {'role': 'user', 'content': 'Could you elaborate on how engineers determine the appropriate levels of vibration and frequency for testing aerospace structures to ensure they accurately simulate real-world conditions?'}, {'role': 'assistant', 'content': \\\"Engineers determine the appropriate levels of vibration and frequency for testing aerospace structures through a combination of theoretical analysis, empirical data, and regulatory requirements. The process involves several key steps:\\\\n\\\\n1. **Mission Profile Analysis:** Engineers review the expected operational environment of the aerospace structure, including launch, ascent, orbit, re-entry (for spacecraft), and takeoff, cruising, and landing (for aircraft). This analysis helps in identifying the range of dynamic loads the structure will encounter.\\\\n\\\\n2. **Load Spectrum Development:** Based on the mission profile, a load spectrum that includes all significant vibrational loads in terms of frequency, amplitude, and duration is developed. This spectrum is derived from historical data of similar missions or vehicles, test data, and computational models.\\\\n\\\\n3. **Regulatory Standards:** Aerospace structures must comply with specific regulatory standards and guidelines that define minimum testing requirements. Organizations like NASA, FAA, and EASA provide such standards, which include predefined vibration levels and frequencies to ensure safety and reliability.\\\\n\\\\n4. **Computational Modeling:** Advanced computational tools and finite element analysis (FEA) are used to simulate the structure's response to the identified vibrational loads. These simulations help in predicting resonant frequencies, stress points, and potential failure modes.\\\\n\\\\n5. **Prototype Testing and Iteration:** Initial tests on prototypes or components are conducted to validate the computational models. The results can lead to adjustments in the vibration test levels or frequencies to more accurately reflect real-world conditions.\\\\n\\\\n6. **Tailoring:** Finally, the vibration test levels and frequencies are tailored to the specific structure being tested. This customization ensures that the testing conditions are as close as possible to the actual operational environment, taking into account the unique characteristics and performance requirements of the structure.\\\\n\\\\nBy integrating these steps, engineers ensure that the vibration and frequency levels used in testing accurately simulate real-world conditions, thereby validating the structure's ability to withstand operational stresses and enhancing the safety and reliability of aerospace missions.\\\"}, {'role': 'user', 'content': 'How do engineers ensure that the vibration testing equipment, such as electrodynamic or hydraulic shakers, is calibrated properly to accurately replicate the dynamic loads experienced by aerospace structures during testing?'}, {'role': 'assistant', 'content': \\\"Ensuring that vibration testing equipment, like electrodynamic or hydraulic shakers, is calibrated properly involves several critical steps to accurately replicate the dynamic loads experienced by aerospace structures during testing:\\\\n\\\\n1. **Calibration of Sensors and Actuators:** Before testing, all sensors (e.g., accelerometers) and actuators within the shaker system are calibrated against known standards. This ensures their readings and outputs accurately reflect the real forces and motions applied during testing.\\\\n\\\\n2. **Reference Load Verification:** Engineers use reference loads and known test conditions to verify the shaker's output. By applying these reference loads, they can confirm that the shaker produces the correct amplitude, frequency, and waveform characteristics.\\\\n\\\\n3. **System Identification:** A process called system identification is often conducted where a known input is applied to the system, and the output is measured. This helps in understanding the system's dynamic characteristics and ensures the shaker system behaves predictably across the expected range of testing conditions.\\\\n\\\\n4. **Feedback Control Systems:** Modern shaker systems are equipped with feedback control systems that continuously monitor the force, displacement, and acceleration applied to the test specimen. These systems adjust the shaker's output in real-time to match the desired test conditions precisely.\\\\n\\\\n5. **Regular Maintenance and Recalibration:** Vibration testing equipment undergoes regular maintenance and recalibration to ensure its accuracy over time. This includes checking mechanical components for wear and tear, recalibrating sensors and actuators, and updating software algorithms that control the shaker's operation.\\\\n\\\\n6. **Cross-Validation with Analytical Models:** Results from vibration tests are often cross-validated with analytical models and simulations. Discrepancies between test results and model predictions can indicate issues with the test setup, including calibration errors, which can then be corrected.\\\\n\\\\n7. **Certification and Standards Compliance:** Compliance with international standards (e.g., ISO, ASTM) for vibration testing ensures that the equipment is calibrated and maintained according to globally recognized best practices. Certification from external bodies may also be sought as an additional assurance of calibration accuracy.\\\\n\\\\nBy meticulously following these steps, engineers ensure that vibration testing equipment is calibrated properly, thereby guaranteeing that the dynamic loads applied during testing accurately replicate the conditions aerospace structures will face in their operational environments.\\\"}]\"\n        ],\n        \"semantic_type\": \"\",\n        \"description\": \"\"\n      }\n    }\n  ]\n}",
       "type": "dataframe",
       "variable_name": "data"
      },
      "text/html": [
       "\n",
       "  <div id=\"df-87942d28-9e9c-4fc9-afa4-b98ec3bca5c3\" class=\"colab-df-container\">\n",
       "    <div>\n",
       "<style scoped>\n",
       "    .dataframe tbody tr th:only-of-type {\n",
       "        vertical-align: middle;\n",
       "    }\n",
       "\n",
       "    .dataframe tbody tr th {\n",
       "        vertical-align: top;\n",
       "    }\n",
       "\n",
       "    .dataframe thead th {\n",
       "        text-align: right;\n",
       "    }\n",
       "</style>\n",
       "<table border=\"1\" class=\"dataframe\">\n",
       "  <thead>\n",
       "    <tr style=\"text-align: right;\">\n",
       "      <th></th>\n",
       "      <th>id</th>\n",
       "      <th>topic</th>\n",
       "      <th>subtopic</th>\n",
       "      <th>persona</th>\n",
       "      <th>opening_question</th>\n",
       "      <th>messages</th>\n",
       "    </tr>\n",
       "  </thead>\n",
       "  <tbody>\n",
       "    <tr>\n",
       "      <th>0</th>\n",
       "      <td>451c070a-78de-4a13-bafa-d4bdd697af9e</td>\n",
       "      <td>Space Law</td>\n",
       "      <td>Space Law Basics</td>\n",
       "      <td>a busy person, needing quick and efficient ans...</td>\n",
       "      <td>Basics of Space Law? Role of international tre...</td>\n",
       "      <td>[{'role': 'user', 'content': 'Basics of Space ...</td>\n",
       "    </tr>\n",
       "  </tbody>\n",
       "</table>\n",
       "</div>\n",
       "    <div class=\"colab-df-buttons\">\n",
       "\n",
       "  <div class=\"colab-df-container\">\n",
       "    <button class=\"colab-df-convert\" onclick=\"convertToInteractive('df-87942d28-9e9c-4fc9-afa4-b98ec3bca5c3')\"\n",
       "            title=\"Convert this dataframe to an interactive table.\"\n",
       "            style=\"display:none;\">\n",
       "\n",
       "  <svg xmlns=\"http://www.w3.org/2000/svg\" height=\"24px\" viewBox=\"0 -960 960 960\">\n",
       "    <path d=\"M120-120v-720h720v720H120Zm60-500h600v-160H180v160Zm220 220h160v-160H400v160Zm0 220h160v-160H400v160ZM180-400h160v-160H180v160Zm440 0h160v-160H620v160ZM180-180h160v-160H180v160Zm440 0h160v-160H620v160Z\"/>\n",
       "  </svg>\n",
       "    </button>\n",
       "\n",
       "  <style>\n",
       "    .colab-df-container {\n",
       "      display:flex;\n",
       "      gap: 12px;\n",
       "    }\n",
       "\n",
       "    .colab-df-convert {\n",
       "      background-color: #E8F0FE;\n",
       "      border: none;\n",
       "      border-radius: 50%;\n",
       "      cursor: pointer;\n",
       "      display: none;\n",
       "      fill: #1967D2;\n",
       "      height: 32px;\n",
       "      padding: 0 0 0 0;\n",
       "      width: 32px;\n",
       "    }\n",
       "\n",
       "    .colab-df-convert:hover {\n",
       "      background-color: #E2EBFA;\n",
       "      box-shadow: 0px 1px 2px rgba(60, 64, 67, 0.3), 0px 1px 3px 1px rgba(60, 64, 67, 0.15);\n",
       "      fill: #174EA6;\n",
       "    }\n",
       "\n",
       "    .colab-df-buttons div {\n",
       "      margin-bottom: 4px;\n",
       "    }\n",
       "\n",
       "    [theme=dark] .colab-df-convert {\n",
       "      background-color: #3B4455;\n",
       "      fill: #D2E3FC;\n",
       "    }\n",
       "\n",
       "    [theme=dark] .colab-df-convert:hover {\n",
       "      background-color: #434B5C;\n",
       "      box-shadow: 0px 1px 3px 1px rgba(0, 0, 0, 0.15);\n",
       "      filter: drop-shadow(0px 1px 2px rgba(0, 0, 0, 0.3));\n",
       "      fill: #FFFFFF;\n",
       "    }\n",
       "  </style>\n",
       "\n",
       "    <script>\n",
       "      const buttonEl =\n",
       "        document.querySelector('#df-87942d28-9e9c-4fc9-afa4-b98ec3bca5c3 button.colab-df-convert');\n",
       "      buttonEl.style.display =\n",
       "        google.colab.kernel.accessAllowed ? 'block' : 'none';\n",
       "\n",
       "      async function convertToInteractive(key) {\n",
       "        const element = document.querySelector('#df-87942d28-9e9c-4fc9-afa4-b98ec3bca5c3');\n",
       "        const dataTable =\n",
       "          await google.colab.kernel.invokeFunction('convertToInteractive',\n",
       "                                                    [key], {});\n",
       "        if (!dataTable) return;\n",
       "\n",
       "        const docLinkHtml = 'Like what you see? Visit the ' +\n",
       "          '<a target=\"_blank\" href=https://colab.research.google.com/notebooks/data_table.ipynb>data table notebook</a>'\n",
       "          + ' to learn more about interactive tables.';\n",
       "        element.innerHTML = '';\n",
       "        dataTable['output_type'] = 'display_data';\n",
       "        await google.colab.output.renderOutput(dataTable, element);\n",
       "        const docLink = document.createElement('div');\n",
       "        docLink.innerHTML = docLinkHtml;\n",
       "        element.appendChild(docLink);\n",
       "      }\n",
       "    </script>\n",
       "  </div>\n",
       "\n",
       "\n",
       "    </div>\n",
       "  </div>\n"
      ],
      "text/plain": [
       "                                     id      topic          subtopic  \\\n",
       "0  451c070a-78de-4a13-bafa-d4bdd697af9e  Space Law  Space Law Basics   \n",
       "\n",
       "                                             persona  \\\n",
       "0  a busy person, needing quick and efficient ans...   \n",
       "\n",
       "                                    opening_question  \\\n",
       "0  Basics of Space Law? Role of international tre...   \n",
       "\n",
       "                                            messages  \n",
       "0  [{'role': 'user', 'content': 'Basics of Space ...  "
      ]
     },
     "execution_count": 24,
     "metadata": {},
     "output_type": "execute_result"
    }
   ],
   "source": [
    "data.head(1)"
   ]
  },
  {
   "cell_type": "code",
   "execution_count": 25,
   "metadata": {
    "id": "zRnppgjsTxf4"
   },
   "outputs": [],
   "source": [
    "data.drop('topic',axis=1,inplace=True)\n",
    "data.drop('subtopic',axis=1,inplace=True)\n",
    "data.drop('persona',axis=1,inplace=True)"
   ]
  },
  {
   "cell_type": "code",
   "execution_count": 26,
   "metadata": {
    "colab": {
     "base_uri": "https://localhost:8080/",
     "height": 195
    },
    "id": "Bx4dliQ1Rsek",
    "outputId": "8bf24b1b-4888-4720-f8f3-0cb67e87d4c5"
   },
   "outputs": [
    {
     "data": {
      "application/vnd.google.colaboratory.intrinsic+json": {
       "summary": "{\n  \"name\": \"data\",\n  \"rows\": 901,\n  \"fields\": [\n    {\n      \"column\": \"id\",\n      \"properties\": {\n        \"dtype\": \"string\",\n        \"num_unique_values\": 901,\n        \"samples\": [\n          \"bdd80cb5-0050-4169-a4e1-bdadbdeaaba1\",\n          \"fbebc0ea-e65b-461c-8507-d1067f05f937\",\n          \"2344cba8-f5d5-4d24-800d-12abf71eec99\"\n        ],\n        \"semantic_type\": \"\",\n        \"description\": \"\"\n      }\n    },\n    {\n      \"column\": \"opening_question\",\n      \"properties\": {\n        \"dtype\": \"string\",\n        \"num_unique_values\": 901,\n        \"samples\": [\n          \"What are the main things to think about when setting up a flight control team to make sure they crush it on missions?\",\n          \"Could you detail the specific challenges of long-term fuel storage in the harsh conditions of space?\",\n          \"Could you explain how vibration tests are performed on aerospace structures and what the main goals of these tests are?\"\n        ],\n        \"semantic_type\": \"\",\n        \"description\": \"\"\n      }\n    },\n    {\n      \"column\": \"messages\",\n      \"properties\": {\n        \"dtype\": \"string\",\n        \"num_unique_values\": 901,\n        \"samples\": [\n          \"[{'role': 'user', 'content': 'What are the main things to think about when setting up a flight control team to make sure they crush it on missions?'}, {'role': 'assistant', 'content': \\\"When setting up a flight control team to excel in missions, consider the following key aspects:\\\\n\\\\n1. **Expertise and Training**: Ensure team members possess specialized knowledge across all mission-critical domains (navigation, engineering, communications, etc.) and undergo rigorous, continuous training to handle normal operations, emergencies, and anomalies.\\\\n\\\\n2. **Roles and Responsibilities**: Clearly define roles and responsibilities for each team member, ensuring comprehensive coverage of all mission aspects without overlaps that could cause confusion or gaps that might leave areas unmonitored.\\\\n\\\\n3. **Communication**: Establish robust, clear, and efficient communication protocols both within the flight control team and with astronauts, other ground teams, and external agencies. This includes using precise terminology and maintaining open lines for real-time information exchange.\\\\n\\\\n4. **Decision-Making Processes**: Implement structured decision-making processes that allow for quick, informed, and consensus-based decisions, especially in critical situations. This includes predefined criteria for escalating issues and involving higher-level management.\\\\n\\\\n5. **Simulation and Training**: Conduct regular and comprehensive simulation exercises that cover a range of scenarios, from routine operations to worst-case emergencies. This helps in honing the team's skills, improving teamwork, and testing protocols.\\\\n\\\\n6. **Mental and Physical Wellbeing**: Recognize the high-stress nature of flight control operations and provide support for the mental and physical wellbeing of team members. This could include shift work considerations, stress management resources, and fostering a supportive team environment.\\\\n\\\\n7. **Technology and Tools**: Equip the team with state-of-the-art technology and tools for monitoring, communication, and data analysis. Ensure systems are redundant, reliable, and have backup options in case of failure.\\\\n\\\\n8. **Continuous Improvement**: Foster a culture of continuous improvement through regular debriefings, lessons learned sessions, and incorporating feedback into operational procedures and training programs.\\\\n\\\\nBy focusing on these areas, a flight control team can be well-prepared to support successful space missions, effectively manage unexpected challenges, and ensure the safety and success of the mission and its crew.\\\"}, {'role': 'user', 'content': \\\"Yo, that's some detailed info on setting up a flight control team! But like, how do they actually handle emergencies during a mission? Do they have like specific protocols or something?\\\"}, {'role': 'assistant', 'content': \\\"Yes, flight control teams handle emergencies during missions by following specific protocols designed to address various contingencies. Here's a concise overview of how they manage such situations:\\\\n\\\\n1. **Predefined Procedures**: For known potential emergencies (e.g., system failures, loss of communication, medical emergencies), there are detailed, predefined procedures that the team follows. These procedures are developed through extensive analysis, simulations, and experience from past missions.\\\\n\\\\n2. **Simulation Training**: Team members undergo rigorous simulation training that includes emergency scenarios, ensuring they can respond effectively under pressure. This training helps in internalizing response protocols and improving teamwork during crises.\\\\n\\\\n3. **Real-Time Problem Solving**: For unforeseen issues, the team employs structured problem-solving techniques, leveraging their collective expertise and available data. This might involve brainstorming, rapid prototyping of solutions, and consulting with external experts if necessary.\\\\n\\\\n4. **Decision Hierarchy**: Clear decision-making hierarchies ensure that, during an emergency, decisions are made efficiently and by the appropriate personnel. This includes knowing when to escalate issues to higher-level officials or specialists.\\\\n\\\\n5. **Communication Protocols**: Maintaining clear and constant communication with the crew in space is crucial. The team uses established communication protocols to provide instructions, gather information, and reassure the crew.\\\\n\\\\n6. **Safety First**: The primary focus is always on the safety of the crew and the spacecraft. Decisions are made with this priority in mind, sometimes requiring difficult choices, such as aborting missions or activating emergency return procedures.\\\\n\\\\n7. **Debrief and Learn**: After managing an emergency, the team conducts a thorough debrief to analyze the response, document lessons learned, and update procedures to better handle similar situations in the future.\\\\n\\\\nBy adhering to these protocols and approaches, flight control teams are equipped to manage emergencies effectively, ensuring the best possible outcomes under challenging circumstances.\\\"}]\",\n          \"[{'role': 'user', 'content': 'Could you detail the specific challenges of long-term fuel storage in the harsh conditions of space?'}, {'role': 'assistant', 'content': 'Long-term fuel storage in space faces several challenges due to the harsh conditions, including:\\\\n\\\\n1. **Extreme Temperatures**: Spacecraft can experience extreme temperatures, leading to fuel freezing or boiling off. This requires insulation and heating or cooling systems to maintain fuel at usable temperatures.\\\\n\\\\n2. **Microgravity**: In microgravity, managing liquid fuel becomes complex as it does not settle at the bottom of tanks. Special fuel management techniques, such as surface tension-based systems, are necessary to ensure fuel delivery to engines.\\\\n\\\\n3. **Radiation**: High levels of cosmic and solar radiation can degrade certain types of fuel or fuel system components over time, necessitating radiation-resistant materials.\\\\n\\\\n4. **Vacuum Conditions**: The vacuum of space can lead to the evaporation of volatile components in fuel. Seals and materials must be designed to prevent leakage and evaporation.\\\\n\\\\n5. **Longevity and Reliability**: Space missions can last years, requiring fuel systems that are highly reliable over long periods without maintenance.\\\\n\\\\n6. **Safety and Containment**: Ensuring the safe storage of fuel, particularly cryogenic or highly reactive propellants, is critical to prevent accidents. This involves robust containment systems and safety protocols.\\\\n\\\\nAddressing these challenges requires innovative engineering solutions and materials to ensure that spacecraft can operate effectively over their intended lifespans.'}, {'role': 'user', 'content': 'How do spacecraft typically address the challenge of extreme temperatures in long-term fuel storage?'}, {'role': 'assistant', 'content': 'Spacecraft address the challenge of extreme temperatures in long-term fuel storage through several key strategies:\\\\n\\\\n1. **Insulation**: High-performance insulation materials, such as multi-layer insulation (MLI) blankets, are used to minimize thermal exchange between the fuel tanks and the space environment. This helps keep fuel at stable temperatures.\\\\n\\\\n2. **Active Thermal Control Systems**: These systems include heaters and coolers to actively regulate the temperature of the fuel tanks. Heaters can prevent fuel from freezing, while coolers can prevent volatile fuels from boiling off.\\\\n\\\\n3. **Passive Thermal Control**: This involves designing spacecraft components and orientations to naturally balance the thermal input from the Sun and the cold of deep space. For example, placing fuel tanks in locations that minimize exposure to solar radiation.\\\\n\\\\n4. **Phase Change Materials (PCMs)**: PCMs can absorb or release heat at specific temperatures, helping to maintain a stable temperature within fuel tanks.\\\\n\\\\n5. **Cryogenic Fluid Management Technologies**: For cryogenic fuels, advanced technologies like zero boil-off systems, cryocoolers, or venting strategies are employed to manage the boil-off rates without losing significant amounts of fuel.\\\\n\\\\nBy integrating these strategies, spacecraft can maintain fuel integrity and availability, even in the extreme thermal environment of space.'}]\",\n          \"[{'role': 'user', 'content': 'Could you explain how vibration tests are performed on aerospace structures and what the main goals of these tests are?'}, {'role': 'assistant', 'content': 'Vibration tests on aerospace structures are typically performed using electrodynamic or hydraulic shakers that simulate the dynamic loads an aircraft or spacecraft might experience during its lifecycle, such as takeoff, landing, and flight through turbulence, or a rocket during launch. These tests can be conducted on components, subsystems, or entire structures.\\\\n\\\\nThe process involves attaching the structure to a shaker platform or fixture, which then subjects it to controlled vibrational forces that mimic real-world conditions. Sensors and accelerometers are placed on critical points of the structure to measure response to the vibrations, including amplitude, frequency, and phase of the response.\\\\n\\\\nThe main goals of vibration testing are to:\\\\n\\\\n1. **Validate Structural Integrity:** Ensure that the structure can withstand the vibrational loads it will encounter without failing or experiencing unacceptable levels of wear or fatigue.\\\\n2. **Predict Operational Performance:** Assess how components or systems will behave under specific vibrational conditions to ensure they meet operational requirements.\\\\n3. **Identify Resonant Frequencies:** Determine the natural frequencies of the structure to avoid resonance phenomena that could lead to catastrophic failure.\\\\n4. **Refine Analytical Models:** Provide data to validate and refine computational models that predict how structures will respond to dynamic loads, improving future design and testing processes.'}, {'role': 'user', 'content': 'Could you elaborate on how engineers determine the appropriate levels of vibration and frequency for testing aerospace structures to ensure they accurately simulate real-world conditions?'}, {'role': 'assistant', 'content': \\\"Engineers determine the appropriate levels of vibration and frequency for testing aerospace structures through a combination of theoretical analysis, empirical data, and regulatory requirements. The process involves several key steps:\\\\n\\\\n1. **Mission Profile Analysis:** Engineers review the expected operational environment of the aerospace structure, including launch, ascent, orbit, re-entry (for spacecraft), and takeoff, cruising, and landing (for aircraft). This analysis helps in identifying the range of dynamic loads the structure will encounter.\\\\n\\\\n2. **Load Spectrum Development:** Based on the mission profile, a load spectrum that includes all significant vibrational loads in terms of frequency, amplitude, and duration is developed. This spectrum is derived from historical data of similar missions or vehicles, test data, and computational models.\\\\n\\\\n3. **Regulatory Standards:** Aerospace structures must comply with specific regulatory standards and guidelines that define minimum testing requirements. Organizations like NASA, FAA, and EASA provide such standards, which include predefined vibration levels and frequencies to ensure safety and reliability.\\\\n\\\\n4. **Computational Modeling:** Advanced computational tools and finite element analysis (FEA) are used to simulate the structure's response to the identified vibrational loads. These simulations help in predicting resonant frequencies, stress points, and potential failure modes.\\\\n\\\\n5. **Prototype Testing and Iteration:** Initial tests on prototypes or components are conducted to validate the computational models. The results can lead to adjustments in the vibration test levels or frequencies to more accurately reflect real-world conditions.\\\\n\\\\n6. **Tailoring:** Finally, the vibration test levels and frequencies are tailored to the specific structure being tested. This customization ensures that the testing conditions are as close as possible to the actual operational environment, taking into account the unique characteristics and performance requirements of the structure.\\\\n\\\\nBy integrating these steps, engineers ensure that the vibration and frequency levels used in testing accurately simulate real-world conditions, thereby validating the structure's ability to withstand operational stresses and enhancing the safety and reliability of aerospace missions.\\\"}, {'role': 'user', 'content': 'How do engineers ensure that the vibration testing equipment, such as electrodynamic or hydraulic shakers, is calibrated properly to accurately replicate the dynamic loads experienced by aerospace structures during testing?'}, {'role': 'assistant', 'content': \\\"Ensuring that vibration testing equipment, like electrodynamic or hydraulic shakers, is calibrated properly involves several critical steps to accurately replicate the dynamic loads experienced by aerospace structures during testing:\\\\n\\\\n1. **Calibration of Sensors and Actuators:** Before testing, all sensors (e.g., accelerometers) and actuators within the shaker system are calibrated against known standards. This ensures their readings and outputs accurately reflect the real forces and motions applied during testing.\\\\n\\\\n2. **Reference Load Verification:** Engineers use reference loads and known test conditions to verify the shaker's output. By applying these reference loads, they can confirm that the shaker produces the correct amplitude, frequency, and waveform characteristics.\\\\n\\\\n3. **System Identification:** A process called system identification is often conducted where a known input is applied to the system, and the output is measured. This helps in understanding the system's dynamic characteristics and ensures the shaker system behaves predictably across the expected range of testing conditions.\\\\n\\\\n4. **Feedback Control Systems:** Modern shaker systems are equipped with feedback control systems that continuously monitor the force, displacement, and acceleration applied to the test specimen. These systems adjust the shaker's output in real-time to match the desired test conditions precisely.\\\\n\\\\n5. **Regular Maintenance and Recalibration:** Vibration testing equipment undergoes regular maintenance and recalibration to ensure its accuracy over time. This includes checking mechanical components for wear and tear, recalibrating sensors and actuators, and updating software algorithms that control the shaker's operation.\\\\n\\\\n6. **Cross-Validation with Analytical Models:** Results from vibration tests are often cross-validated with analytical models and simulations. Discrepancies between test results and model predictions can indicate issues with the test setup, including calibration errors, which can then be corrected.\\\\n\\\\n7. **Certification and Standards Compliance:** Compliance with international standards (e.g., ISO, ASTM) for vibration testing ensures that the equipment is calibrated and maintained according to globally recognized best practices. Certification from external bodies may also be sought as an additional assurance of calibration accuracy.\\\\n\\\\nBy meticulously following these steps, engineers ensure that vibration testing equipment is calibrated properly, thereby guaranteeing that the dynamic loads applied during testing accurately replicate the conditions aerospace structures will face in their operational environments.\\\"}]\"\n        ],\n        \"semantic_type\": \"\",\n        \"description\": \"\"\n      }\n    }\n  ]\n}",
       "type": "dataframe",
       "variable_name": "data"
      },
      "text/html": [
       "\n",
       "  <div id=\"df-54807fdd-95ff-4049-89b8-0720c48f7224\" class=\"colab-df-container\">\n",
       "    <div>\n",
       "<style scoped>\n",
       "    .dataframe tbody tr th:only-of-type {\n",
       "        vertical-align: middle;\n",
       "    }\n",
       "\n",
       "    .dataframe tbody tr th {\n",
       "        vertical-align: top;\n",
       "    }\n",
       "\n",
       "    .dataframe thead th {\n",
       "        text-align: right;\n",
       "    }\n",
       "</style>\n",
       "<table border=\"1\" class=\"dataframe\">\n",
       "  <thead>\n",
       "    <tr style=\"text-align: right;\">\n",
       "      <th></th>\n",
       "      <th>id</th>\n",
       "      <th>opening_question</th>\n",
       "      <th>messages</th>\n",
       "    </tr>\n",
       "  </thead>\n",
       "  <tbody>\n",
       "    <tr>\n",
       "      <th>0</th>\n",
       "      <td>451c070a-78de-4a13-bafa-d4bdd697af9e</td>\n",
       "      <td>Basics of Space Law? Role of international tre...</td>\n",
       "      <td>[{'role': 'user', 'content': 'Basics of Space ...</td>\n",
       "    </tr>\n",
       "    <tr>\n",
       "      <th>1</th>\n",
       "      <td>2571369a-53ac-4dba-af23-6bf0c85ce3af</td>\n",
       "      <td>Could you provide a detailed analysis of the 1...</td>\n",
       "      <td>[{'role': 'user', 'content': 'Could you provid...</td>\n",
       "    </tr>\n",
       "    <tr>\n",
       "      <th>2</th>\n",
       "      <td>d6455bcf-a808-4087-8b2c-2da820646bd5</td>\n",
       "      <td>What are the specific impacts of the 1998 ISS ...</td>\n",
       "      <td>[{'role': 'user', 'content': 'What are the spe...</td>\n",
       "    </tr>\n",
       "  </tbody>\n",
       "</table>\n",
       "</div>\n",
       "    <div class=\"colab-df-buttons\">\n",
       "\n",
       "  <div class=\"colab-df-container\">\n",
       "    <button class=\"colab-df-convert\" onclick=\"convertToInteractive('df-54807fdd-95ff-4049-89b8-0720c48f7224')\"\n",
       "            title=\"Convert this dataframe to an interactive table.\"\n",
       "            style=\"display:none;\">\n",
       "\n",
       "  <svg xmlns=\"http://www.w3.org/2000/svg\" height=\"24px\" viewBox=\"0 -960 960 960\">\n",
       "    <path d=\"M120-120v-720h720v720H120Zm60-500h600v-160H180v160Zm220 220h160v-160H400v160Zm0 220h160v-160H400v160ZM180-400h160v-160H180v160Zm440 0h160v-160H620v160ZM180-180h160v-160H180v160Zm440 0h160v-160H620v160Z\"/>\n",
       "  </svg>\n",
       "    </button>\n",
       "\n",
       "  <style>\n",
       "    .colab-df-container {\n",
       "      display:flex;\n",
       "      gap: 12px;\n",
       "    }\n",
       "\n",
       "    .colab-df-convert {\n",
       "      background-color: #E8F0FE;\n",
       "      border: none;\n",
       "      border-radius: 50%;\n",
       "      cursor: pointer;\n",
       "      display: none;\n",
       "      fill: #1967D2;\n",
       "      height: 32px;\n",
       "      padding: 0 0 0 0;\n",
       "      width: 32px;\n",
       "    }\n",
       "\n",
       "    .colab-df-convert:hover {\n",
       "      background-color: #E2EBFA;\n",
       "      box-shadow: 0px 1px 2px rgba(60, 64, 67, 0.3), 0px 1px 3px 1px rgba(60, 64, 67, 0.15);\n",
       "      fill: #174EA6;\n",
       "    }\n",
       "\n",
       "    .colab-df-buttons div {\n",
       "      margin-bottom: 4px;\n",
       "    }\n",
       "\n",
       "    [theme=dark] .colab-df-convert {\n",
       "      background-color: #3B4455;\n",
       "      fill: #D2E3FC;\n",
       "    }\n",
       "\n",
       "    [theme=dark] .colab-df-convert:hover {\n",
       "      background-color: #434B5C;\n",
       "      box-shadow: 0px 1px 3px 1px rgba(0, 0, 0, 0.15);\n",
       "      filter: drop-shadow(0px 1px 2px rgba(0, 0, 0, 0.3));\n",
       "      fill: #FFFFFF;\n",
       "    }\n",
       "  </style>\n",
       "\n",
       "    <script>\n",
       "      const buttonEl =\n",
       "        document.querySelector('#df-54807fdd-95ff-4049-89b8-0720c48f7224 button.colab-df-convert');\n",
       "      buttonEl.style.display =\n",
       "        google.colab.kernel.accessAllowed ? 'block' : 'none';\n",
       "\n",
       "      async function convertToInteractive(key) {\n",
       "        const element = document.querySelector('#df-54807fdd-95ff-4049-89b8-0720c48f7224');\n",
       "        const dataTable =\n",
       "          await google.colab.kernel.invokeFunction('convertToInteractive',\n",
       "                                                    [key], {});\n",
       "        if (!dataTable) return;\n",
       "\n",
       "        const docLinkHtml = 'Like what you see? Visit the ' +\n",
       "          '<a target=\"_blank\" href=https://colab.research.google.com/notebooks/data_table.ipynb>data table notebook</a>'\n",
       "          + ' to learn more about interactive tables.';\n",
       "        element.innerHTML = '';\n",
       "        dataTable['output_type'] = 'display_data';\n",
       "        await google.colab.output.renderOutput(dataTable, element);\n",
       "        const docLink = document.createElement('div');\n",
       "        docLink.innerHTML = docLinkHtml;\n",
       "        element.appendChild(docLink);\n",
       "      }\n",
       "    </script>\n",
       "  </div>\n",
       "\n",
       "\n",
       "    <div id=\"df-091d6499-9943-46a9-ae5e-bb36e6078de2\">\n",
       "      <button class=\"colab-df-quickchart\" onclick=\"quickchart('df-091d6499-9943-46a9-ae5e-bb36e6078de2')\"\n",
       "                title=\"Suggest charts\"\n",
       "                style=\"display:none;\">\n",
       "\n",
       "<svg xmlns=\"http://www.w3.org/2000/svg\" height=\"24px\"viewBox=\"0 0 24 24\"\n",
       "     width=\"24px\">\n",
       "    <g>\n",
       "        <path d=\"M19 3H5c-1.1 0-2 .9-2 2v14c0 1.1.9 2 2 2h14c1.1 0 2-.9 2-2V5c0-1.1-.9-2-2-2zM9 17H7v-7h2v7zm4 0h-2V7h2v10zm4 0h-2v-4h2v4z\"/>\n",
       "    </g>\n",
       "</svg>\n",
       "      </button>\n",
       "\n",
       "<style>\n",
       "  .colab-df-quickchart {\n",
       "      --bg-color: #E8F0FE;\n",
       "      --fill-color: #1967D2;\n",
       "      --hover-bg-color: #E2EBFA;\n",
       "      --hover-fill-color: #174EA6;\n",
       "      --disabled-fill-color: #AAA;\n",
       "      --disabled-bg-color: #DDD;\n",
       "  }\n",
       "\n",
       "  [theme=dark] .colab-df-quickchart {\n",
       "      --bg-color: #3B4455;\n",
       "      --fill-color: #D2E3FC;\n",
       "      --hover-bg-color: #434B5C;\n",
       "      --hover-fill-color: #FFFFFF;\n",
       "      --disabled-bg-color: #3B4455;\n",
       "      --disabled-fill-color: #666;\n",
       "  }\n",
       "\n",
       "  .colab-df-quickchart {\n",
       "    background-color: var(--bg-color);\n",
       "    border: none;\n",
       "    border-radius: 50%;\n",
       "    cursor: pointer;\n",
       "    display: none;\n",
       "    fill: var(--fill-color);\n",
       "    height: 32px;\n",
       "    padding: 0;\n",
       "    width: 32px;\n",
       "  }\n",
       "\n",
       "  .colab-df-quickchart:hover {\n",
       "    background-color: var(--hover-bg-color);\n",
       "    box-shadow: 0 1px 2px rgba(60, 64, 67, 0.3), 0 1px 3px 1px rgba(60, 64, 67, 0.15);\n",
       "    fill: var(--button-hover-fill-color);\n",
       "  }\n",
       "\n",
       "  .colab-df-quickchart-complete:disabled,\n",
       "  .colab-df-quickchart-complete:disabled:hover {\n",
       "    background-color: var(--disabled-bg-color);\n",
       "    fill: var(--disabled-fill-color);\n",
       "    box-shadow: none;\n",
       "  }\n",
       "\n",
       "  .colab-df-spinner {\n",
       "    border: 2px solid var(--fill-color);\n",
       "    border-color: transparent;\n",
       "    border-bottom-color: var(--fill-color);\n",
       "    animation:\n",
       "      spin 1s steps(1) infinite;\n",
       "  }\n",
       "\n",
       "  @keyframes spin {\n",
       "    0% {\n",
       "      border-color: transparent;\n",
       "      border-bottom-color: var(--fill-color);\n",
       "      border-left-color: var(--fill-color);\n",
       "    }\n",
       "    20% {\n",
       "      border-color: transparent;\n",
       "      border-left-color: var(--fill-color);\n",
       "      border-top-color: var(--fill-color);\n",
       "    }\n",
       "    30% {\n",
       "      border-color: transparent;\n",
       "      border-left-color: var(--fill-color);\n",
       "      border-top-color: var(--fill-color);\n",
       "      border-right-color: var(--fill-color);\n",
       "    }\n",
       "    40% {\n",
       "      border-color: transparent;\n",
       "      border-right-color: var(--fill-color);\n",
       "      border-top-color: var(--fill-color);\n",
       "    }\n",
       "    60% {\n",
       "      border-color: transparent;\n",
       "      border-right-color: var(--fill-color);\n",
       "    }\n",
       "    80% {\n",
       "      border-color: transparent;\n",
       "      border-right-color: var(--fill-color);\n",
       "      border-bottom-color: var(--fill-color);\n",
       "    }\n",
       "    90% {\n",
       "      border-color: transparent;\n",
       "      border-bottom-color: var(--fill-color);\n",
       "    }\n",
       "  }\n",
       "</style>\n",
       "\n",
       "      <script>\n",
       "        async function quickchart(key) {\n",
       "          const quickchartButtonEl =\n",
       "            document.querySelector('#' + key + ' button');\n",
       "          quickchartButtonEl.disabled = true;  // To prevent multiple clicks.\n",
       "          quickchartButtonEl.classList.add('colab-df-spinner');\n",
       "          try {\n",
       "            const charts = await google.colab.kernel.invokeFunction(\n",
       "                'suggestCharts', [key], {});\n",
       "          } catch (error) {\n",
       "            console.error('Error during call to suggestCharts:', error);\n",
       "          }\n",
       "          quickchartButtonEl.classList.remove('colab-df-spinner');\n",
       "          quickchartButtonEl.classList.add('colab-df-quickchart-complete');\n",
       "        }\n",
       "        (() => {\n",
       "          let quickchartButtonEl =\n",
       "            document.querySelector('#df-091d6499-9943-46a9-ae5e-bb36e6078de2 button');\n",
       "          quickchartButtonEl.style.display =\n",
       "            google.colab.kernel.accessAllowed ? 'block' : 'none';\n",
       "        })();\n",
       "      </script>\n",
       "    </div>\n",
       "\n",
       "    </div>\n",
       "  </div>\n"
      ],
      "text/plain": [
       "                                     id  \\\n",
       "0  451c070a-78de-4a13-bafa-d4bdd697af9e   \n",
       "1  2571369a-53ac-4dba-af23-6bf0c85ce3af   \n",
       "2  d6455bcf-a808-4087-8b2c-2da820646bd5   \n",
       "\n",
       "                                    opening_question  \\\n",
       "0  Basics of Space Law? Role of international tre...   \n",
       "1  Could you provide a detailed analysis of the 1...   \n",
       "2  What are the specific impacts of the 1998 ISS ...   \n",
       "\n",
       "                                            messages  \n",
       "0  [{'role': 'user', 'content': 'Basics of Space ...  \n",
       "1  [{'role': 'user', 'content': 'Could you provid...  \n",
       "2  [{'role': 'user', 'content': 'What are the spe...  "
      ]
     },
     "execution_count": 26,
     "metadata": {},
     "output_type": "execute_result"
    }
   ],
   "source": [
    "data.head(3)"
   ]
  },
  {
   "cell_type": "code",
   "execution_count": 27,
   "metadata": {
    "id": "vJct4p7VTRke"
   },
   "outputs": [],
   "source": [
    "from datasets import Dataset"
   ]
  },
  {
   "cell_type": "code",
   "execution_count": 28,
   "metadata": {
    "id": "yl_3klW0RLi-"
   },
   "outputs": [],
   "source": [
    "dataset=Dataset.from_pandas(data)"
   ]
  },
  {
   "cell_type": "code",
   "execution_count": 29,
   "metadata": {
    "colab": {
     "base_uri": "https://localhost:8080/",
     "height": 49,
     "referenced_widgets": [
      "f2470113bcdd470d9d72ac0b240f47ea",
      "70c656bdfd2a429aa15c080b6ef5d4ef",
      "8b61dd7f096d43a49aee445771f730de",
      "d48945ad7447479ea4c5c66144cc3c7d",
      "b6b9935bda8a426f85f5cc0449087991",
      "5e17a0534b334f8892572575b29aca2b",
      "9aa30d83e57540ee856597c42eab0bfd",
      "95295fcf46e242d583cf283258b3230b",
      "b3268a7078054534a9f3b49045677b28",
      "2c0f40597c594f49976ad5d72c54c6be",
      "99e835e7b15f481ea4e9b7e04e613112"
     ]
    },
    "id": "pdFpAfBFOQ1P",
    "outputId": "a622d328-1fbd-4269-d0cb-127508d1d0b0"
   },
   "outputs": [
    {
     "data": {
      "application/vnd.jupyter.widget-view+json": {
       "model_id": "f2470113bcdd470d9d72ac0b240f47ea",
       "version_major": 2,
       "version_minor": 0
      },
      "text/plain": [
       "Map:   0%|          | 0/901 [00:00<?, ? examples/s]"
      ]
     },
     "metadata": {},
     "output_type": "display_data"
    }
   ],
   "source": [
    "import ast\n",
    "\n",
    "def convert_to_list(example):\n",
    "    example['messages'] = ast.literal_eval(example['messages'])\n",
    "    return example\n",
    "\n",
    "dataset = dataset.map(convert_to_list)"
   ]
  },
  {
   "cell_type": "code",
   "execution_count": 30,
   "metadata": {
    "colab": {
     "base_uri": "https://localhost:8080/"
    },
    "id": "YCeKqkwLOpRp",
    "outputId": "75f4b57a-2663-4e3b-f0c3-fee729fe40bb"
   },
   "outputs": [
    {
     "data": {
      "text/plain": [
       "Dataset({\n",
       "    features: ['id', 'opening_question', 'messages'],\n",
       "    num_rows: 901\n",
       "})"
      ]
     },
     "execution_count": 30,
     "metadata": {},
     "output_type": "execute_result"
    }
   ],
   "source": [
    "dataset"
   ]
  },
  {
   "cell_type": "code",
   "execution_count": 31,
   "metadata": {
    "colab": {
     "base_uri": "https://localhost:8080/"
    },
    "id": "WkRrRl42QXAd",
    "outputId": "cf3cc613-0926-4716-e6ca-2873bba55cd8"
   },
   "outputs": [
    {
     "data": {
      "text/plain": [
       "[{'content': 'Basics of Space Law? Role of international treaties? Space debris legalities? Commercial space activities law? Extraterrestrial resource extraction governance?',\n",
       "  'role': 'user'},\n",
       " {'content': '### Basics of Space Law\\n\\nSpace Law encompasses the body of legal norms, rules, and principles that are applicable to activities in outer space. Initially developed to manage the exploration and use of outer space by nation-states, it has evolved to address issues like satellite communications, space exploration, and commercial space activities.\\n\\n### Role of International Treaties\\n\\nInternational treaties play a foundational role in Space Law, establishing principles that guide space activities. Key treaties include:\\n\\n1. **Outer Space Treaty (1967)**: Forms the basis of international space law, declaring space free for exploration and use by all states in a manner that benefits all humanity. It prohibits the placement of nuclear weapons in space and claims of sovereignty.\\n2. **Rescue Agreement (1968)**: Obligates parties to assist astronauts in distress and return them to the launching state.\\n3. **Liability Convention (1972)**: Establishes a liability framework for damage caused by space objects.\\n4. **Registration Convention (1975)**: Requires states to register space objects with the UN.\\n5. **Moon Agreement (1979)**: Addresses the use of the Moon and other celestial bodies, aiming to manage them as the common heritage of mankind, though it has limited ratification.\\n\\n### Space Debris Legalities\\n\\nSpace debris is addressed under the Liability Convention, where the launching state is liable for damage caused by their space objects, including debris. However, specific regulations and enforcement mechanisms for space debris mitigation and removal are still evolving, with guidelines rather than binding international rules currently in place.\\n\\n### Commercial Space Activities Law\\n\\nCommercial space activities are primarily regulated by national laws, given the principle that states are responsible for national entities\\' activities in space. Countries have developed their own regulatory frameworks to license and supervise private space missions, ensuring compliance with international obligations, including the safety of space operations and long-term sustainability of outer space.\\n\\n### Extraterrestrial Resource Extraction Governance\\n\\nThe governance of extraterrestrial resource extraction is an emerging area of Space Law. The Outer Space Treaty implies that outer space, including celestial bodies, cannot be claimed by any state, but it does not explicitly address the use of space resources. The U.S., Luxembourg, and other countries have begun to establish national laws that permit the commercial extraction and use of space resources, advocating for a legal framework that supports space mining under international law. The debate continues on how to balance resource utilization with the principle of space as the \"province of all mankind\" and ensuring sustainable and equitable benefits.',\n",
       "  'role': 'assistant'},\n",
       " {'content': 'Can you provide examples of specific national laws related to commercial space activities?',\n",
       "  'role': 'user'},\n",
       " {'content': \"Certainly, here are examples of specific national laws related to commercial space activities from a few countries:\\n\\n### United States\\n\\n- **Commercial Space Launch Act of 1984**: Established a framework for the regulation of commercial launch activities, including licensing and oversight by the Federal Aviation Administration (FAA). It has been amended several times to accommodate the evolving space industry.\\n- **Commercial Space Launch Competitiveness Act of 2015**: Among other provisions, this act addresses resource extraction from asteroids and other celestial bodies, granting U.S. citizens rights to own, transport, use, and sell extraterrestrial resources legally obtained.\\n\\n### Luxembourg\\n\\n- **Law of 20 July 2017 on the Exploration and Use of Space Resources**: Positions Luxembourg as one of the first countries in Europe to establish a legal framework that recognizes the right to space resources that have been extracted. The law provides that space resources can be appropriated in accordance with international law.\\n\\n### United Arab Emirates (UAE)\\n\\n- **UAE Space Law (Federal Law by Decree No. 12 of 2019)**: This comprehensive national space law regulates space activities to enhance the development of the sector, ensuring safety and adherence to international treaties. It covers a wide range of activities including registration, licensing, and the promotion of commercial space ventures.\\n\\n### Russia\\n\\n- **Federal Law on Space Activities (1993, with subsequent amendments)**: This law outlines the regulatory framework for all space activities within Russia, including commercial endeavors. It establishes the government's control over space activities and includes provisions on licensing, safety, and environmental protection.\\n\\n### India\\n\\n- **Indian Space Activities Bill (Draft)**: As of my last update, this bill is in the drafting stage and aims to regulate space activities in India, promoting the development of the private space industry. It is expected to address liability issues, licensing of space activities, and the use of outer space.\\n\\nThese national laws reflect the growing recognition of the need to regulate commercial space activities, both to promote the industry and to ensure compliance with international obligations. Each country's approach varies, reflecting its own priorities and strategic interests in space.\",\n",
       "  'role': 'assistant'}]"
      ]
     },
     "execution_count": 31,
     "metadata": {},
     "output_type": "execute_result"
    }
   ],
   "source": [
    "dataset['messages'][0]"
   ]
  },
  {
   "cell_type": "code",
   "execution_count": 6,
   "metadata": {
    "id": "6Upv80FzTPju"
   },
   "outputs": [],
   "source": [
    "model_id='TinyLlama/TinyLlama-1.1B-Chat-v1.0'"
   ]
  },
  {
   "cell_type": "code",
   "execution_count": 32,
   "metadata": {
    "id": "1owUUC2ZUxil"
   },
   "outputs": [],
   "source": [
    "from transformers import AutoTokenizer, AutoModelForCausalLM\n",
    "tokenizer=AutoTokenizer.from_pretrained(model_id)"
   ]
  },
  {
   "cell_type": "code",
   "execution_count": 33,
   "metadata": {
    "colab": {
     "base_uri": "https://localhost:8080/"
    },
    "id": "2xgI3UZHVj3t",
    "outputId": "09add4ce-f1fc-4073-fe60-969160d38ff4"
   },
   "outputs": [
    {
     "data": {
      "text/plain": [
       "LlamaTokenizerFast(name_or_path='TinyLlama/TinyLlama-1.1B-Chat-v1.0', vocab_size=32000, model_max_length=2048, is_fast=True, padding_side='right', truncation_side='right', special_tokens={'bos_token': '<s>', 'eos_token': '</s>', 'unk_token': '<unk>', 'pad_token': '</s>'}, clean_up_tokenization_spaces=False, added_tokens_decoder={\n",
       "\t0: AddedToken(\"<unk>\", rstrip=False, lstrip=False, single_word=False, normalized=False, special=True),\n",
       "\t1: AddedToken(\"<s>\", rstrip=False, lstrip=False, single_word=False, normalized=False, special=True),\n",
       "\t2: AddedToken(\"</s>\", rstrip=False, lstrip=False, single_word=False, normalized=False, special=True),\n",
       "}\n",
       ")"
      ]
     },
     "execution_count": 33,
     "metadata": {},
     "output_type": "execute_result"
    }
   ],
   "source": [
    "tokenizer"
   ]
  },
  {
   "cell_type": "code",
   "execution_count": 34,
   "metadata": {
    "id": "AQUlgMoiLe-D"
   },
   "outputs": [],
   "source": [
    "tokenizer.padding_side='left'\n",
    "tokenizer.truncation_side='left'"
   ]
  },
  {
   "cell_type": "code",
   "execution_count": 35,
   "metadata": {
    "id": "b6-8uJ4tWK8c"
   },
   "outputs": [],
   "source": [
    "def format_prompt(example):\n",
    "  chat=example['messages']\n",
    "  prompt=tokenizer.apply_chat_template(chat,tokenize=False)\n",
    "\n",
    "  return {'text':prompt}"
   ]
  },
  {
   "cell_type": "code",
   "execution_count": 36,
   "metadata": {
    "colab": {
     "base_uri": "https://localhost:8080/",
     "height": 235
    },
    "id": "PolrzlFSWufu",
    "outputId": "f0dd3fc2-37d7-4997-b691-72842ca304cc"
   },
   "outputs": [
    {
     "data": {
      "application/vnd.google.colaboratory.intrinsic+json": {
       "type": "string"
      },
      "text/plain": [
       "'<|user|>\\nBasics of Space Law? Role of international treaties? Space debris legalities? Commercial space activities law? Extraterrestrial resource extraction governance?</s>\\n<|assistant|>\\n### Basics of Space Law\\n\\nSpace Law encompasses the body of legal norms, rules, and principles that are applicable to activities in outer space. Initially developed to manage the exploration and use of outer space by nation-states, it has evolved to address issues like satellite communications, space exploration, and commercial space activities.\\n\\n### Role of International Treaties\\n\\nInternational treaties play a foundational role in Space Law, establishing principles that guide space activities. Key treaties include:\\n\\n1. **Outer Space Treaty (1967)**: Forms the basis of international space law, declaring space free for exploration and use by all states in a manner that benefits all humanity. It prohibits the placement of nuclear weapons in space and claims of sovereignty.\\n2. **Rescue Agreement (1968)**: Obligates parties to assist astronauts in distress and return them to the launching state.\\n3. **Liability Convention (1972)**: Establishes a liability framework for damage caused by space objects.\\n4. **Registration Convention (1975)**: Requires states to register space objects with the UN.\\n5. **Moon Agreement (1979)**: Addresses the use of the Moon and other celestial bodies, aiming to manage them as the common heritage of mankind, though it has limited ratification.\\n\\n### Space Debris Legalities\\n\\nSpace debris is addressed under the Liability Convention, where the launching state is liable for damage caused by their space objects, including debris. However, specific regulations and enforcement mechanisms for space debris mitigation and removal are still evolving, with guidelines rather than binding international rules currently in place.\\n\\n### Commercial Space Activities Law\\n\\nCommercial space activities are primarily regulated by national laws, given the principle that states are responsible for national entities\\' activities in space. Countries have developed their own regulatory frameworks to license and supervise private space missions, ensuring compliance with international obligations, including the safety of space operations and long-term sustainability of outer space.\\n\\n### Extraterrestrial Resource Extraction Governance\\n\\nThe governance of extraterrestrial resource extraction is an emerging area of Space Law. The Outer Space Treaty implies that outer space, including celestial bodies, cannot be claimed by any state, but it does not explicitly address the use of space resources. The U.S., Luxembourg, and other countries have begun to establish national laws that permit the commercial extraction and use of space resources, advocating for a legal framework that supports space mining under international law. The debate continues on how to balance resource utilization with the principle of space as the \"province of all mankind\" and ensuring sustainable and equitable benefits.</s>\\n<|user|>\\nCan you provide examples of specific national laws related to commercial space activities?</s>\\n<|assistant|>\\nCertainly, here are examples of specific national laws related to commercial space activities from a few countries:\\n\\n### United States\\n\\n- **Commercial Space Launch Act of 1984**: Established a framework for the regulation of commercial launch activities, including licensing and oversight by the Federal Aviation Administration (FAA). It has been amended several times to accommodate the evolving space industry.\\n- **Commercial Space Launch Competitiveness Act of 2015**: Among other provisions, this act addresses resource extraction from asteroids and other celestial bodies, granting U.S. citizens rights to own, transport, use, and sell extraterrestrial resources legally obtained.\\n\\n### Luxembourg\\n\\n- **Law of 20 July 2017 on the Exploration and Use of Space Resources**: Positions Luxembourg as one of the first countries in Europe to establish a legal framework that recognizes the right to space resources that have been extracted. The law provides that space resources can be appropriated in accordance with international law.\\n\\n### United Arab Emirates (UAE)\\n\\n- **UAE Space Law (Federal Law by Decree No. 12 of 2019)**: This comprehensive national space law regulates space activities to enhance the development of the sector, ensuring safety and adherence to international treaties. It covers a wide range of activities including registration, licensing, and the promotion of commercial space ventures.\\n\\n### Russia\\n\\n- **Federal Law on Space Activities (1993, with subsequent amendments)**: This law outlines the regulatory framework for all space activities within Russia, including commercial endeavors. It establishes the government\\'s control over space activities and includes provisions on licensing, safety, and environmental protection.\\n\\n### India\\n\\n- **Indian Space Activities Bill (Draft)**: As of my last update, this bill is in the drafting stage and aims to regulate space activities in India, promoting the development of the private space industry. It is expected to address liability issues, licensing of space activities, and the use of outer space.\\n\\nThese national laws reflect the growing recognition of the need to regulate commercial space activities, both to promote the industry and to ensure compliance with international obligations. Each country\\'s approach varies, reflecting its own priorities and strategic interests in space.</s>\\n'"
      ]
     },
     "execution_count": 36,
     "metadata": {},
     "output_type": "execute_result"
    }
   ],
   "source": [
    "tokenizer.apply_chat_template(dataset[0]['messages'],tokenize=False)"
   ]
  },
  {
   "cell_type": "code",
   "execution_count": 37,
   "metadata": {
    "colab": {
     "base_uri": "https://localhost:8080/",
     "height": 49,
     "referenced_widgets": [
      "95488d276a42425092342a79a223e2c9",
      "141056fcc7654aacbc2b13bf83d19c1f",
      "fb02b9a8ebcc4c37afdf61acfb75d6c8",
      "53914cd5ff554b2bae318956792b6ee1",
      "5ca51f90dfc54838a2abf784e79847e8",
      "6fd54a5dd3bf4bbf96c7d663a6989723",
      "319864637a3e4abaac038b57e14378ea",
      "7cb85ca9945c4c5aa7d9bb363b4ff364",
      "d267de7384b04bcab834c80deb143255",
      "aa526d4f50634204ae8f420e60d4d0be",
      "7646bdc899f44cf1934db823108ace3a"
     ]
    },
    "id": "o7UQjBKpLdo5",
    "outputId": "3eea920a-20cf-48da-f1b5-337b0927c0f8"
   },
   "outputs": [
    {
     "data": {
      "application/vnd.jupyter.widget-view+json": {
       "model_id": "95488d276a42425092342a79a223e2c9",
       "version_major": 2,
       "version_minor": 0
      },
      "text/plain": [
       "Map:   0%|          | 0/901 [00:00<?, ? examples/s]"
      ]
     },
     "metadata": {},
     "output_type": "display_data"
    }
   ],
   "source": [
    "dataset=dataset.map(format_prompt)"
   ]
  },
  {
   "cell_type": "code",
   "execution_count": 38,
   "metadata": {
    "colab": {
     "base_uri": "https://localhost:8080/",
     "height": 235
    },
    "id": "_5WCSuZMNIKg",
    "outputId": "a8939747-7f40-4127-86a6-fd65c2d7da9f"
   },
   "outputs": [
    {
     "data": {
      "application/vnd.google.colaboratory.intrinsic+json": {
       "type": "string"
      },
      "text/plain": [
       "'<|user|>\\nBasics of Space Law? Role of international treaties? Space debris legalities? Commercial space activities law? Extraterrestrial resource extraction governance?</s>\\n<|assistant|>\\n### Basics of Space Law\\n\\nSpace Law encompasses the body of legal norms, rules, and principles that are applicable to activities in outer space. Initially developed to manage the exploration and use of outer space by nation-states, it has evolved to address issues like satellite communications, space exploration, and commercial space activities.\\n\\n### Role of International Treaties\\n\\nInternational treaties play a foundational role in Space Law, establishing principles that guide space activities. Key treaties include:\\n\\n1. **Outer Space Treaty (1967)**: Forms the basis of international space law, declaring space free for exploration and use by all states in a manner that benefits all humanity. It prohibits the placement of nuclear weapons in space and claims of sovereignty.\\n2. **Rescue Agreement (1968)**: Obligates parties to assist astronauts in distress and return them to the launching state.\\n3. **Liability Convention (1972)**: Establishes a liability framework for damage caused by space objects.\\n4. **Registration Convention (1975)**: Requires states to register space objects with the UN.\\n5. **Moon Agreement (1979)**: Addresses the use of the Moon and other celestial bodies, aiming to manage them as the common heritage of mankind, though it has limited ratification.\\n\\n### Space Debris Legalities\\n\\nSpace debris is addressed under the Liability Convention, where the launching state is liable for damage caused by their space objects, including debris. However, specific regulations and enforcement mechanisms for space debris mitigation and removal are still evolving, with guidelines rather than binding international rules currently in place.\\n\\n### Commercial Space Activities Law\\n\\nCommercial space activities are primarily regulated by national laws, given the principle that states are responsible for national entities\\' activities in space. Countries have developed their own regulatory frameworks to license and supervise private space missions, ensuring compliance with international obligations, including the safety of space operations and long-term sustainability of outer space.\\n\\n### Extraterrestrial Resource Extraction Governance\\n\\nThe governance of extraterrestrial resource extraction is an emerging area of Space Law. The Outer Space Treaty implies that outer space, including celestial bodies, cannot be claimed by any state, but it does not explicitly address the use of space resources. The U.S., Luxembourg, and other countries have begun to establish national laws that permit the commercial extraction and use of space resources, advocating for a legal framework that supports space mining under international law. The debate continues on how to balance resource utilization with the principle of space as the \"province of all mankind\" and ensuring sustainable and equitable benefits.</s>\\n<|user|>\\nCan you provide examples of specific national laws related to commercial space activities?</s>\\n<|assistant|>\\nCertainly, here are examples of specific national laws related to commercial space activities from a few countries:\\n\\n### United States\\n\\n- **Commercial Space Launch Act of 1984**: Established a framework for the regulation of commercial launch activities, including licensing and oversight by the Federal Aviation Administration (FAA). It has been amended several times to accommodate the evolving space industry.\\n- **Commercial Space Launch Competitiveness Act of 2015**: Among other provisions, this act addresses resource extraction from asteroids and other celestial bodies, granting U.S. citizens rights to own, transport, use, and sell extraterrestrial resources legally obtained.\\n\\n### Luxembourg\\n\\n- **Law of 20 July 2017 on the Exploration and Use of Space Resources**: Positions Luxembourg as one of the first countries in Europe to establish a legal framework that recognizes the right to space resources that have been extracted. The law provides that space resources can be appropriated in accordance with international law.\\n\\n### United Arab Emirates (UAE)\\n\\n- **UAE Space Law (Federal Law by Decree No. 12 of 2019)**: This comprehensive national space law regulates space activities to enhance the development of the sector, ensuring safety and adherence to international treaties. It covers a wide range of activities including registration, licensing, and the promotion of commercial space ventures.\\n\\n### Russia\\n\\n- **Federal Law on Space Activities (1993, with subsequent amendments)**: This law outlines the regulatory framework for all space activities within Russia, including commercial endeavors. It establishes the government\\'s control over space activities and includes provisions on licensing, safety, and environmental protection.\\n\\n### India\\n\\n- **Indian Space Activities Bill (Draft)**: As of my last update, this bill is in the drafting stage and aims to regulate space activities in India, promoting the development of the private space industry. It is expected to address liability issues, licensing of space activities, and the use of outer space.\\n\\nThese national laws reflect the growing recognition of the need to regulate commercial space activities, both to promote the industry and to ensure compliance with international obligations. Each country\\'s approach varies, reflecting its own priorities and strategic interests in space.</s>\\n'"
      ]
     },
     "execution_count": 38,
     "metadata": {},
     "output_type": "execute_result"
    }
   ],
   "source": [
    "dataset['text'][0]"
   ]
  },
  {
   "cell_type": "code",
   "execution_count": 39,
   "metadata": {
    "id": "WaihxVKMRlsc"
   },
   "outputs": [],
   "source": [
    "from peft import LoraConfig, get_peft_model"
   ]
  },
  {
   "cell_type": "code",
   "execution_count": 19,
   "metadata": {
    "id": "Dz2RFzi3RrG9"
   },
   "outputs": [],
   "source": [
    "from transformers import pipeline"
   ]
  },
  {
   "cell_type": "code",
   "execution_count": null,
   "metadata": {
    "colab": {
     "base_uri": "https://localhost:8080/"
    },
    "id": "751G_5OzR_x3",
    "outputId": "c3eaed78-137a-4897-c048-3cda73dabe2e"
   },
   "outputs": [
    {
     "name": "stderr",
     "output_type": "stream",
     "text": [
      "Device set to use cuda\n"
     ]
    }
   ],
   "source": [
    "pipe=pipeline('text-generation',model=model_id,device='cuda')"
   ]
  },
  {
   "cell_type": "code",
   "execution_count": null,
   "metadata": {
    "colab": {
     "base_uri": "https://localhost:8080/"
    },
    "id": "kuwHbDPTSHJk",
    "outputId": "f6c19647-90c4-4283-8cd7-14ac67fc434d"
   },
   "outputs": [
    {
     "data": {
      "text/plain": [
       "[{'generated_text': '<|User|>\\nwhat are Basics of Space Law\\n<|Assistant|>\\nSpace Law, also known as space law or space lawyering, is the set of rules and principles governing the exploration, use, and exploration of outer space. The basic principles of space law include:\\n\\n1. Self-Regulation: The United Nations Space Agency (UNOSAT) is responsible for developing and implementing standards and guidelines for space activities.\\n\\n2. International Treaties: The United Nations Office for Outer Space Affairs (UNOOSA) manages and promotes international treaties and agreements related to space.\\n\\n3. International Space Station (ISS): The ISS is an international platform for cooperation in space exploration, research, and development.\\n\\n4. International Space University (ISU): The ISU provides education, training, and research opportunities for space professionals and academics around the world.\\n\\n5. International Astronautical Congress (IAC): The IAC is a leading event for space professionals and academics to discuss space policy, technology, and scientific research.\\n\\n6. International Space Fuel Agreement (ISFA): The ISFA is a non-profit organization that aims to ensure access to space resources for peaceful uses.\\n\\n7. International Maritime Organization (IMO): The IMO is responsible for regulating space activities related to marine exploration and exploration.\\n\\nOverall, space law promotes open and transparent collaboration among space stakeholders and establishes standards and guidelines for responsible and safe space activities.'}]"
      ]
     },
     "execution_count": 22,
     "metadata": {},
     "output_type": "execute_result"
    }
   ],
   "source": [
    "prompt='''<|User|>\n",
    "what are Basics of Space Law\n",
    "<|Assistant|>'''\n",
    "pipe(prompt)"
   ]
  },
  {
   "cell_type": "code",
   "execution_count": 23,
   "metadata": {
    "colab": {
     "base_uri": "https://localhost:8080/",
     "height": 1000
    },
    "id": "aqSAmEpJVXSq",
    "outputId": "0e914d13-8490-4779-b14d-5b7e7fbec02f"
   },
   "outputs": [
    {
     "name": "stdout",
     "output_type": "stream",
     "text": [
      "Collecting bitsandbytes\n",
      "  Downloading bitsandbytes-0.46.0-py3-none-manylinux_2_24_x86_64.whl.metadata (10 kB)\n",
      "Requirement already satisfied: torch<3,>=2.2 in /usr/local/lib/python3.11/dist-packages (from bitsandbytes) (2.6.0+cu124)\n",
      "Requirement already satisfied: numpy>=1.17 in /usr/local/lib/python3.11/dist-packages (from bitsandbytes) (2.0.2)\n",
      "Requirement already satisfied: filelock in /usr/local/lib/python3.11/dist-packages (from torch<3,>=2.2->bitsandbytes) (3.18.0)\n",
      "Requirement already satisfied: typing-extensions>=4.10.0 in /usr/local/lib/python3.11/dist-packages (from torch<3,>=2.2->bitsandbytes) (4.14.0)\n",
      "Requirement already satisfied: networkx in /usr/local/lib/python3.11/dist-packages (from torch<3,>=2.2->bitsandbytes) (3.5)\n",
      "Requirement already satisfied: jinja2 in /usr/local/lib/python3.11/dist-packages (from torch<3,>=2.2->bitsandbytes) (3.1.6)\n",
      "Requirement already satisfied: fsspec in /usr/local/lib/python3.11/dist-packages (from torch<3,>=2.2->bitsandbytes) (2025.3.2)\n",
      "Collecting nvidia-cuda-nvrtc-cu12==12.4.127 (from torch<3,>=2.2->bitsandbytes)\n",
      "  Downloading nvidia_cuda_nvrtc_cu12-12.4.127-py3-none-manylinux2014_x86_64.whl.metadata (1.5 kB)\n",
      "Collecting nvidia-cuda-runtime-cu12==12.4.127 (from torch<3,>=2.2->bitsandbytes)\n",
      "  Downloading nvidia_cuda_runtime_cu12-12.4.127-py3-none-manylinux2014_x86_64.whl.metadata (1.5 kB)\n",
      "Collecting nvidia-cuda-cupti-cu12==12.4.127 (from torch<3,>=2.2->bitsandbytes)\n",
      "  Downloading nvidia_cuda_cupti_cu12-12.4.127-py3-none-manylinux2014_x86_64.whl.metadata (1.6 kB)\n",
      "Collecting nvidia-cudnn-cu12==9.1.0.70 (from torch<3,>=2.2->bitsandbytes)\n",
      "  Downloading nvidia_cudnn_cu12-9.1.0.70-py3-none-manylinux2014_x86_64.whl.metadata (1.6 kB)\n",
      "Collecting nvidia-cublas-cu12==12.4.5.8 (from torch<3,>=2.2->bitsandbytes)\n",
      "  Downloading nvidia_cublas_cu12-12.4.5.8-py3-none-manylinux2014_x86_64.whl.metadata (1.5 kB)\n",
      "Collecting nvidia-cufft-cu12==11.2.1.3 (from torch<3,>=2.2->bitsandbytes)\n",
      "  Downloading nvidia_cufft_cu12-11.2.1.3-py3-none-manylinux2014_x86_64.whl.metadata (1.5 kB)\n",
      "Collecting nvidia-curand-cu12==10.3.5.147 (from torch<3,>=2.2->bitsandbytes)\n",
      "  Downloading nvidia_curand_cu12-10.3.5.147-py3-none-manylinux2014_x86_64.whl.metadata (1.5 kB)\n",
      "Collecting nvidia-cusolver-cu12==11.6.1.9 (from torch<3,>=2.2->bitsandbytes)\n",
      "  Downloading nvidia_cusolver_cu12-11.6.1.9-py3-none-manylinux2014_x86_64.whl.metadata (1.6 kB)\n",
      "Collecting nvidia-cusparse-cu12==12.3.1.170 (from torch<3,>=2.2->bitsandbytes)\n",
      "  Downloading nvidia_cusparse_cu12-12.3.1.170-py3-none-manylinux2014_x86_64.whl.metadata (1.6 kB)\n",
      "Requirement already satisfied: nvidia-cusparselt-cu12==0.6.2 in /usr/local/lib/python3.11/dist-packages (from torch<3,>=2.2->bitsandbytes) (0.6.2)\n",
      "Requirement already satisfied: nvidia-nccl-cu12==2.21.5 in /usr/local/lib/python3.11/dist-packages (from torch<3,>=2.2->bitsandbytes) (2.21.5)\n",
      "Requirement already satisfied: nvidia-nvtx-cu12==12.4.127 in /usr/local/lib/python3.11/dist-packages (from torch<3,>=2.2->bitsandbytes) (12.4.127)\n",
      "Collecting nvidia-nvjitlink-cu12==12.4.127 (from torch<3,>=2.2->bitsandbytes)\n",
      "  Downloading nvidia_nvjitlink_cu12-12.4.127-py3-none-manylinux2014_x86_64.whl.metadata (1.5 kB)\n",
      "Requirement already satisfied: triton==3.2.0 in /usr/local/lib/python3.11/dist-packages (from torch<3,>=2.2->bitsandbytes) (3.2.0)\n",
      "Requirement already satisfied: sympy==1.13.1 in /usr/local/lib/python3.11/dist-packages (from torch<3,>=2.2->bitsandbytes) (1.13.1)\n",
      "Requirement already satisfied: mpmath<1.4,>=1.1.0 in /usr/local/lib/python3.11/dist-packages (from sympy==1.13.1->torch<3,>=2.2->bitsandbytes) (1.3.0)\n",
      "Requirement already satisfied: MarkupSafe>=2.0 in /usr/local/lib/python3.11/dist-packages (from jinja2->torch<3,>=2.2->bitsandbytes) (3.0.2)\n",
      "Downloading bitsandbytes-0.46.0-py3-none-manylinux_2_24_x86_64.whl (67.0 MB)\n",
      "\u001b[2K   \u001b[90m━━━━━━━━━━━━━━━━━━━━━━━━━━━━━━━━━━━━━━━━\u001b[0m \u001b[32m67.0/67.0 MB\u001b[0m \u001b[31m15.0 MB/s\u001b[0m eta \u001b[36m0:00:00\u001b[0m\n",
      "\u001b[?25hDownloading nvidia_cublas_cu12-12.4.5.8-py3-none-manylinux2014_x86_64.whl (363.4 MB)\n",
      "\u001b[2K   \u001b[90m━━━━━━━━━━━━━━━━━━━━━━━━━━━━━━━━━━━━━━━━\u001b[0m \u001b[32m363.4/363.4 MB\u001b[0m \u001b[31m5.7 MB/s\u001b[0m eta \u001b[36m0:00:00\u001b[0m\n",
      "\u001b[?25hDownloading nvidia_cuda_cupti_cu12-12.4.127-py3-none-manylinux2014_x86_64.whl (13.8 MB)\n",
      "\u001b[2K   \u001b[90m━━━━━━━━━━━━━━━━━━━━━━━━━━━━━━━━━━━━━━━━\u001b[0m \u001b[32m13.8/13.8 MB\u001b[0m \u001b[31m119.9 MB/s\u001b[0m eta \u001b[36m0:00:00\u001b[0m\n",
      "\u001b[?25hDownloading nvidia_cuda_nvrtc_cu12-12.4.127-py3-none-manylinux2014_x86_64.whl (24.6 MB)\n",
      "\u001b[2K   \u001b[90m━━━━━━━━━━━━━━━━━━━━━━━━━━━━━━━━━━━━━━━━\u001b[0m \u001b[32m24.6/24.6 MB\u001b[0m \u001b[31m26.5 MB/s\u001b[0m eta \u001b[36m0:00:00\u001b[0m\n",
      "\u001b[?25hDownloading nvidia_cuda_runtime_cu12-12.4.127-py3-none-manylinux2014_x86_64.whl (883 kB)\n",
      "\u001b[2K   \u001b[90m━━━━━━━━━━━━━━━━━━━━━━━━━━━━━━━━━━━━━━━━\u001b[0m \u001b[32m883.7/883.7 kB\u001b[0m \u001b[31m62.6 MB/s\u001b[0m eta \u001b[36m0:00:00\u001b[0m\n",
      "\u001b[?25hDownloading nvidia_cudnn_cu12-9.1.0.70-py3-none-manylinux2014_x86_64.whl (664.8 MB)\n",
      "\u001b[2K   \u001b[90m━━━━━━━━━━━━━━━━━━━━━━━━━━━━━━━━━━━━━━━━\u001b[0m \u001b[32m664.8/664.8 MB\u001b[0m \u001b[31m2.1 MB/s\u001b[0m eta \u001b[36m0:00:00\u001b[0m\n",
      "\u001b[?25hDownloading nvidia_cufft_cu12-11.2.1.3-py3-none-manylinux2014_x86_64.whl (211.5 MB)\n",
      "\u001b[2K   \u001b[90m━━━━━━━━━━━━━━━━━━━━━━━━━━━━━━━━━━━━━━━━\u001b[0m \u001b[32m211.5/211.5 MB\u001b[0m \u001b[31m6.6 MB/s\u001b[0m eta \u001b[36m0:00:00\u001b[0m\n",
      "\u001b[?25hDownloading nvidia_curand_cu12-10.3.5.147-py3-none-manylinux2014_x86_64.whl (56.3 MB)\n",
      "\u001b[2K   \u001b[90m━━━━━━━━━━━━━━━━━━━━━━━━━━━━━━━━━━━━━━━━\u001b[0m \u001b[32m56.3/56.3 MB\u001b[0m \u001b[31m15.4 MB/s\u001b[0m eta \u001b[36m0:00:00\u001b[0m\n",
      "\u001b[?25hDownloading nvidia_cusolver_cu12-11.6.1.9-py3-none-manylinux2014_x86_64.whl (127.9 MB)\n",
      "\u001b[2K   \u001b[90m━━━━━━━━━━━━━━━━━━━━━━━━━━━━━━━━━━━━━━━━\u001b[0m \u001b[32m127.9/127.9 MB\u001b[0m \u001b[31m9.4 MB/s\u001b[0m eta \u001b[36m0:00:00\u001b[0m\n",
      "\u001b[?25hDownloading nvidia_cusparse_cu12-12.3.1.170-py3-none-manylinux2014_x86_64.whl (207.5 MB)\n",
      "\u001b[2K   \u001b[90m━━━━━━━━━━━━━━━━━━━━━━━━━━━━━━━━━━━━━━━━\u001b[0m \u001b[32m207.5/207.5 MB\u001b[0m \u001b[31m1.6 MB/s\u001b[0m eta \u001b[36m0:00:00\u001b[0m\n",
      "\u001b[?25hDownloading nvidia_nvjitlink_cu12-12.4.127-py3-none-manylinux2014_x86_64.whl (21.1 MB)\n",
      "\u001b[2K   \u001b[90m━━━━━━━━━━━━━━━━━━━━━━━━━━━━━━━━━━━━━━━━\u001b[0m \u001b[32m21.1/21.1 MB\u001b[0m \u001b[31m108.1 MB/s\u001b[0m eta \u001b[36m0:00:00\u001b[0m\n",
      "\u001b[?25hInstalling collected packages: nvidia-nvjitlink-cu12, nvidia-curand-cu12, nvidia-cufft-cu12, nvidia-cuda-runtime-cu12, nvidia-cuda-nvrtc-cu12, nvidia-cuda-cupti-cu12, nvidia-cublas-cu12, nvidia-cusparse-cu12, nvidia-cudnn-cu12, nvidia-cusolver-cu12, bitsandbytes\n",
      "  Attempting uninstall: nvidia-nvjitlink-cu12\n",
      "    Found existing installation: nvidia-nvjitlink-cu12 12.5.82\n",
      "    Uninstalling nvidia-nvjitlink-cu12-12.5.82:\n",
      "      Successfully uninstalled nvidia-nvjitlink-cu12-12.5.82\n",
      "  Attempting uninstall: nvidia-curand-cu12\n",
      "    Found existing installation: nvidia-curand-cu12 10.3.6.82\n",
      "    Uninstalling nvidia-curand-cu12-10.3.6.82:\n",
      "      Successfully uninstalled nvidia-curand-cu12-10.3.6.82\n",
      "  Attempting uninstall: nvidia-cufft-cu12\n",
      "    Found existing installation: nvidia-cufft-cu12 11.2.3.61\n",
      "    Uninstalling nvidia-cufft-cu12-11.2.3.61:\n",
      "      Successfully uninstalled nvidia-cufft-cu12-11.2.3.61\n",
      "  Attempting uninstall: nvidia-cuda-runtime-cu12\n",
      "    Found existing installation: nvidia-cuda-runtime-cu12 12.5.82\n",
      "    Uninstalling nvidia-cuda-runtime-cu12-12.5.82:\n",
      "      Successfully uninstalled nvidia-cuda-runtime-cu12-12.5.82\n",
      "  Attempting uninstall: nvidia-cuda-nvrtc-cu12\n",
      "    Found existing installation: nvidia-cuda-nvrtc-cu12 12.5.82\n",
      "    Uninstalling nvidia-cuda-nvrtc-cu12-12.5.82:\n",
      "      Successfully uninstalled nvidia-cuda-nvrtc-cu12-12.5.82\n",
      "  Attempting uninstall: nvidia-cuda-cupti-cu12\n",
      "    Found existing installation: nvidia-cuda-cupti-cu12 12.5.82\n",
      "    Uninstalling nvidia-cuda-cupti-cu12-12.5.82:\n",
      "      Successfully uninstalled nvidia-cuda-cupti-cu12-12.5.82\n",
      "  Attempting uninstall: nvidia-cublas-cu12\n",
      "    Found existing installation: nvidia-cublas-cu12 12.5.3.2\n",
      "    Uninstalling nvidia-cublas-cu12-12.5.3.2:\n",
      "      Successfully uninstalled nvidia-cublas-cu12-12.5.3.2\n",
      "  Attempting uninstall: nvidia-cusparse-cu12\n",
      "    Found existing installation: nvidia-cusparse-cu12 12.5.1.3\n",
      "    Uninstalling nvidia-cusparse-cu12-12.5.1.3:\n",
      "      Successfully uninstalled nvidia-cusparse-cu12-12.5.1.3\n",
      "  Attempting uninstall: nvidia-cudnn-cu12\n",
      "    Found existing installation: nvidia-cudnn-cu12 9.3.0.75\n",
      "    Uninstalling nvidia-cudnn-cu12-9.3.0.75:\n",
      "      Successfully uninstalled nvidia-cudnn-cu12-9.3.0.75\n",
      "  Attempting uninstall: nvidia-cusolver-cu12\n",
      "    Found existing installation: nvidia-cusolver-cu12 11.6.3.83\n",
      "    Uninstalling nvidia-cusolver-cu12-11.6.3.83:\n",
      "      Successfully uninstalled nvidia-cusolver-cu12-11.6.3.83\n",
      "Successfully installed bitsandbytes-0.46.0 nvidia-cublas-cu12-12.4.5.8 nvidia-cuda-cupti-cu12-12.4.127 nvidia-cuda-nvrtc-cu12-12.4.127 nvidia-cuda-runtime-cu12-12.4.127 nvidia-cudnn-cu12-9.1.0.70 nvidia-cufft-cu12-11.2.1.3 nvidia-curand-cu12-10.3.5.147 nvidia-cusolver-cu12-11.6.1.9 nvidia-cusparse-cu12-12.3.1.170 nvidia-nvjitlink-cu12-12.4.127\n"
     ]
    },
    {
     "data": {
      "application/vnd.colab-display-data+json": {
       "id": "5f2d5716be9542d8886052c188b6eb09",
       "pip_warning": {
        "packages": [
         "nvidia"
        ]
       }
      }
     },
     "metadata": {},
     "output_type": "display_data"
    }
   ],
   "source": [
    "!pip install bitsandbytes"
   ]
  },
  {
   "cell_type": "code",
   "execution_count": 1,
   "metadata": {
    "id": "mDt-xL3XSTJY"
   },
   "outputs": [],
   "source": [
    "from transformers import BitsAndBytesConfig"
   ]
  },
  {
   "cell_type": "code",
   "execution_count": 2,
   "metadata": {
    "id": "dvYoeanVVAar"
   },
   "outputs": [],
   "source": [
    "import torch"
   ]
  },
  {
   "cell_type": "code",
   "execution_count": 3,
   "metadata": {
    "id": "IUZX8t35Umhe"
   },
   "outputs": [],
   "source": [
    "bnbconfig=BitsAndBytesConfig(\n",
    "    load_in_4bit=True,\n",
    "    bnb_4bit_use_double_quant=True,\n",
    "    bnb_4bit_quant_type='nf4',\n",
    "    bnb_4bit_compute_dtype='float16'\n",
    ")"
   ]
  },
  {
   "cell_type": "code",
   "execution_count": 4,
   "metadata": {
    "id": "HA4t_86kWJjq"
   },
   "outputs": [],
   "source": [
    "from transformers import AutoModelForCausalLM"
   ]
  },
  {
   "cell_type": "code",
   "execution_count": 12,
   "metadata": {
    "id": "ctzsXasJWOxH"
   },
   "outputs": [],
   "source": [
    "model=AutoModelForCausalLM.from_pretrained(model_id,quantization_config=bnbconfig,device_map='auto')"
   ]
  },
  {
   "cell_type": "code",
   "execution_count": 8,
   "metadata": {
    "colab": {
     "base_uri": "https://localhost:8080/"
    },
    "id": "p4WXpgucWmcS",
    "outputId": "1632da04-4014-4248-a323-fd0ba1ac3f0b"
   },
   "outputs": [
    {
     "data": {
      "text/plain": [
       "LlamaForCausalLM(\n",
       "  (model): LlamaModel(\n",
       "    (embed_tokens): Embedding(32000, 2048)\n",
       "    (layers): ModuleList(\n",
       "      (0-21): 22 x LlamaDecoderLayer(\n",
       "        (self_attn): LlamaAttention(\n",
       "          (q_proj): Linear4bit(in_features=2048, out_features=2048, bias=False)\n",
       "          (k_proj): Linear4bit(in_features=2048, out_features=256, bias=False)\n",
       "          (v_proj): Linear4bit(in_features=2048, out_features=256, bias=False)\n",
       "          (o_proj): Linear4bit(in_features=2048, out_features=2048, bias=False)\n",
       "        )\n",
       "        (mlp): LlamaMLP(\n",
       "          (gate_proj): Linear4bit(in_features=2048, out_features=5632, bias=False)\n",
       "          (up_proj): Linear4bit(in_features=2048, out_features=5632, bias=False)\n",
       "          (down_proj): Linear4bit(in_features=5632, out_features=2048, bias=False)\n",
       "          (act_fn): SiLU()\n",
       "        )\n",
       "        (input_layernorm): LlamaRMSNorm((2048,), eps=1e-05)\n",
       "        (post_attention_layernorm): LlamaRMSNorm((2048,), eps=1e-05)\n",
       "      )\n",
       "    )\n",
       "    (norm): LlamaRMSNorm((2048,), eps=1e-05)\n",
       "    (rotary_emb): LlamaRotaryEmbedding()\n",
       "  )\n",
       "  (lm_head): Linear(in_features=2048, out_features=32000, bias=False)\n",
       ")"
      ]
     },
     "execution_count": 8,
     "metadata": {},
     "output_type": "execute_result"
    }
   ],
   "source": [
    "model"
   ]
  },
  {
   "cell_type": "code",
   "execution_count": 13,
   "metadata": {
    "id": "ZDmnIcfMZfWN"
   },
   "outputs": [],
   "source": [
    "model.config.use_cashe=False\n",
    "model.config.pretraining_tp=1"
   ]
  },
  {
   "cell_type": "code",
   "execution_count": 14,
   "metadata": {
    "id": "atSnmpuIXNu8"
   },
   "outputs": [],
   "source": [
    "target_modules=['q_proj','k_proj','v_proj','o_proj','gate_proj','up_proj','down_proj']"
   ]
  },
  {
   "cell_type": "code",
   "execution_count": 15,
   "metadata": {
    "id": "kWp8lFIRWoDr"
   },
   "outputs": [],
   "source": [
    "from peft import LoraConfig,get_peft_model"
   ]
  },
  {
   "cell_type": "code",
   "execution_count": 16,
   "metadata": {
    "id": "ay-CoCcGWt40"
   },
   "outputs": [],
   "source": [
    "lora=LoraConfig(\n",
    "    lora_alpha=32,\n",
    "    target_modules=target_modules,\n",
    "    r=32,\n",
    "    task_type='CAUSAL_LM',\n",
    "    bias=\"none\",\n",
    "    lora_dropout=0.05\n",
    "\n",
    ")"
   ]
  },
  {
   "cell_type": "code",
   "execution_count": 17,
   "metadata": {
    "id": "0qYgPwitaFAJ"
   },
   "outputs": [],
   "source": [
    "from peft import prepare_model_for_kbit_training"
   ]
  },
  {
   "cell_type": "code",
   "execution_count": 18,
   "metadata": {
    "id": "phgrD-d7aN_T"
   },
   "outputs": [],
   "source": [
    "model=prepare_model_for_kbit_training(model)"
   ]
  },
  {
   "cell_type": "code",
   "execution_count": 19,
   "metadata": {
    "id": "i-C0SWbNidhV"
   },
   "outputs": [],
   "source": [
    "modl=get_peft_model(model,lora)"
   ]
  },
  {
   "cell_type": "code",
   "execution_count": 20,
   "metadata": {
    "colab": {
     "base_uri": "https://localhost:8080/"
    },
    "id": "H6TY2OzWik6v",
    "outputId": "da898cf4-82f5-4720-b231-e45ad8fa8720"
   },
   "outputs": [
    {
     "data": {
      "text/plain": [
       "PeftModelForCausalLM(\n",
       "  (base_model): LoraModel(\n",
       "    (model): LlamaForCausalLM(\n",
       "      (model): LlamaModel(\n",
       "        (embed_tokens): Embedding(32000, 2048)\n",
       "        (layers): ModuleList(\n",
       "          (0-21): 22 x LlamaDecoderLayer(\n",
       "            (self_attn): LlamaAttention(\n",
       "              (q_proj): lora.Linear4bit(\n",
       "                (base_layer): Linear4bit(in_features=2048, out_features=2048, bias=False)\n",
       "                (lora_dropout): ModuleDict(\n",
       "                  (default): Dropout(p=0.05, inplace=False)\n",
       "                )\n",
       "                (lora_A): ModuleDict(\n",
       "                  (default): Linear(in_features=2048, out_features=32, bias=False)\n",
       "                )\n",
       "                (lora_B): ModuleDict(\n",
       "                  (default): Linear(in_features=32, out_features=2048, bias=False)\n",
       "                )\n",
       "                (lora_embedding_A): ParameterDict()\n",
       "                (lora_embedding_B): ParameterDict()\n",
       "                (lora_magnitude_vector): ModuleDict()\n",
       "              )\n",
       "              (k_proj): lora.Linear4bit(\n",
       "                (base_layer): Linear4bit(in_features=2048, out_features=256, bias=False)\n",
       "                (lora_dropout): ModuleDict(\n",
       "                  (default): Dropout(p=0.05, inplace=False)\n",
       "                )\n",
       "                (lora_A): ModuleDict(\n",
       "                  (default): Linear(in_features=2048, out_features=32, bias=False)\n",
       "                )\n",
       "                (lora_B): ModuleDict(\n",
       "                  (default): Linear(in_features=32, out_features=256, bias=False)\n",
       "                )\n",
       "                (lora_embedding_A): ParameterDict()\n",
       "                (lora_embedding_B): ParameterDict()\n",
       "                (lora_magnitude_vector): ModuleDict()\n",
       "              )\n",
       "              (v_proj): lora.Linear4bit(\n",
       "                (base_layer): Linear4bit(in_features=2048, out_features=256, bias=False)\n",
       "                (lora_dropout): ModuleDict(\n",
       "                  (default): Dropout(p=0.05, inplace=False)\n",
       "                )\n",
       "                (lora_A): ModuleDict(\n",
       "                  (default): Linear(in_features=2048, out_features=32, bias=False)\n",
       "                )\n",
       "                (lora_B): ModuleDict(\n",
       "                  (default): Linear(in_features=32, out_features=256, bias=False)\n",
       "                )\n",
       "                (lora_embedding_A): ParameterDict()\n",
       "                (lora_embedding_B): ParameterDict()\n",
       "                (lora_magnitude_vector): ModuleDict()\n",
       "              )\n",
       "              (o_proj): lora.Linear4bit(\n",
       "                (base_layer): Linear4bit(in_features=2048, out_features=2048, bias=False)\n",
       "                (lora_dropout): ModuleDict(\n",
       "                  (default): Dropout(p=0.05, inplace=False)\n",
       "                )\n",
       "                (lora_A): ModuleDict(\n",
       "                  (default): Linear(in_features=2048, out_features=32, bias=False)\n",
       "                )\n",
       "                (lora_B): ModuleDict(\n",
       "                  (default): Linear(in_features=32, out_features=2048, bias=False)\n",
       "                )\n",
       "                (lora_embedding_A): ParameterDict()\n",
       "                (lora_embedding_B): ParameterDict()\n",
       "                (lora_magnitude_vector): ModuleDict()\n",
       "              )\n",
       "            )\n",
       "            (mlp): LlamaMLP(\n",
       "              (gate_proj): lora.Linear4bit(\n",
       "                (base_layer): Linear4bit(in_features=2048, out_features=5632, bias=False)\n",
       "                (lora_dropout): ModuleDict(\n",
       "                  (default): Dropout(p=0.05, inplace=False)\n",
       "                )\n",
       "                (lora_A): ModuleDict(\n",
       "                  (default): Linear(in_features=2048, out_features=32, bias=False)\n",
       "                )\n",
       "                (lora_B): ModuleDict(\n",
       "                  (default): Linear(in_features=32, out_features=5632, bias=False)\n",
       "                )\n",
       "                (lora_embedding_A): ParameterDict()\n",
       "                (lora_embedding_B): ParameterDict()\n",
       "                (lora_magnitude_vector): ModuleDict()\n",
       "              )\n",
       "              (up_proj): lora.Linear4bit(\n",
       "                (base_layer): Linear4bit(in_features=2048, out_features=5632, bias=False)\n",
       "                (lora_dropout): ModuleDict(\n",
       "                  (default): Dropout(p=0.05, inplace=False)\n",
       "                )\n",
       "                (lora_A): ModuleDict(\n",
       "                  (default): Linear(in_features=2048, out_features=32, bias=False)\n",
       "                )\n",
       "                (lora_B): ModuleDict(\n",
       "                  (default): Linear(in_features=32, out_features=5632, bias=False)\n",
       "                )\n",
       "                (lora_embedding_A): ParameterDict()\n",
       "                (lora_embedding_B): ParameterDict()\n",
       "                (lora_magnitude_vector): ModuleDict()\n",
       "              )\n",
       "              (down_proj): lora.Linear4bit(\n",
       "                (base_layer): Linear4bit(in_features=5632, out_features=2048, bias=False)\n",
       "                (lora_dropout): ModuleDict(\n",
       "                  (default): Dropout(p=0.05, inplace=False)\n",
       "                )\n",
       "                (lora_A): ModuleDict(\n",
       "                  (default): Linear(in_features=5632, out_features=32, bias=False)\n",
       "                )\n",
       "                (lora_B): ModuleDict(\n",
       "                  (default): Linear(in_features=32, out_features=2048, bias=False)\n",
       "                )\n",
       "                (lora_embedding_A): ParameterDict()\n",
       "                (lora_embedding_B): ParameterDict()\n",
       "                (lora_magnitude_vector): ModuleDict()\n",
       "              )\n",
       "              (act_fn): SiLU()\n",
       "            )\n",
       "            (input_layernorm): LlamaRMSNorm((2048,), eps=1e-05)\n",
       "            (post_attention_layernorm): LlamaRMSNorm((2048,), eps=1e-05)\n",
       "          )\n",
       "        )\n",
       "        (norm): LlamaRMSNorm((2048,), eps=1e-05)\n",
       "        (rotary_emb): LlamaRotaryEmbedding()\n",
       "      )\n",
       "      (lm_head): Linear(in_features=2048, out_features=32000, bias=False)\n",
       "    )\n",
       "  )\n",
       ")"
      ]
     },
     "execution_count": 20,
     "metadata": {},
     "output_type": "execute_result"
    }
   ],
   "source": [
    "modl"
   ]
  },
  {
   "cell_type": "code",
   "execution_count": 21,
   "metadata": {
    "id": "6GYk3nEFmdfq"
   },
   "outputs": [],
   "source": [
    "from transformers import TrainingArguments,Trainer"
   ]
  },
  {
   "cell_type": "code",
   "execution_count": 44,
   "metadata": {
    "id": "3df5OXyENynk"
   },
   "outputs": [],
   "source": [
    "import torch"
   ]
  },
  {
   "cell_type": "code",
   "execution_count": 66,
   "metadata": {
    "colab": {
     "base_uri": "https://localhost:8080/"
    },
    "id": "pM1IvUZez9za",
    "outputId": "9ccf307d-63e8-4c8c-9b38-adb100bb50ee"
   },
   "outputs": [
    {
     "name": "stderr",
     "output_type": "stream",
     "text": [
      "The speedups for torchdynamo mostly come with GPU Ampere or higher and which is not detected here.\n"
     ]
    }
   ],
   "source": [
    "args = TrainingArguments(\n",
    "    output_dir='Train',\n",
    "    eval_strategy='no',\n",
    "    save_strategy='epoch',\n",
    "    per_device_train_batch_size=2,\n",
    "    per_device_eval_batch_size=2,\n",
    "    gradient_accumulation_steps=1,\n",
    "\n",
    "    learning_rate=2e-4,\n",
    "    optim=\"paged_adamw_8bit\",\n",
    "\n",
    "    num_train_epochs=3,\n",
    "    max_steps=-1,\n",
    "\n",
    "    eval_steps=None,\n",
    "    torch_compile=False,\n",
    "    torch_compile_backend=\"inductor\",\n",
    "    fp16=True,\n",
    "    bf16=False,\n",
    "\n",
    "    report_to='none',\n",
    "    logging_steps=100,\n",
    "    save_total_limit=2,\n",
    ")"
   ]
  },
  {
   "cell_type": "code",
   "execution_count": 50,
   "metadata": {
    "colab": {
     "base_uri": "https://localhost:8080/",
     "height": 1000
    },
    "id": "nlVEAtEMOnVh",
    "outputId": "62e7c9c1-700d-413d-d26a-fb3202a1aabf"
   },
   "outputs": [
    {
     "name": "stdout",
     "output_type": "stream",
     "text": [
      "Collecting trl\n",
      "  Downloading trl-0.18.1-py3-none-any.whl.metadata (11 kB)\n",
      "Requirement already satisfied: accelerate>=0.34.0 in /usr/local/lib/python3.11/dist-packages (from trl) (1.7.0)\n",
      "Collecting datasets>=3.0.0 (from trl)\n",
      "  Downloading datasets-3.6.0-py3-none-any.whl.metadata (19 kB)\n",
      "Requirement already satisfied: transformers>=4.50.0 in /usr/local/lib/python3.11/dist-packages (from trl) (4.52.4)\n",
      "Requirement already satisfied: numpy<3.0.0,>=1.17 in /usr/local/lib/python3.11/dist-packages (from accelerate>=0.34.0->trl) (2.0.2)\n",
      "Requirement already satisfied: packaging>=20.0 in /usr/local/lib/python3.11/dist-packages (from accelerate>=0.34.0->trl) (24.2)\n",
      "Requirement already satisfied: psutil in /usr/local/lib/python3.11/dist-packages (from accelerate>=0.34.0->trl) (5.9.5)\n",
      "Requirement already satisfied: pyyaml in /usr/local/lib/python3.11/dist-packages (from accelerate>=0.34.0->trl) (6.0.2)\n",
      "Requirement already satisfied: torch>=2.0.0 in /usr/local/lib/python3.11/dist-packages (from accelerate>=0.34.0->trl) (2.6.0+cu124)\n",
      "Requirement already satisfied: huggingface-hub>=0.21.0 in /usr/local/lib/python3.11/dist-packages (from accelerate>=0.34.0->trl) (0.32.4)\n",
      "Requirement already satisfied: safetensors>=0.4.3 in /usr/local/lib/python3.11/dist-packages (from accelerate>=0.34.0->trl) (0.5.3)\n",
      "Requirement already satisfied: filelock in /usr/local/lib/python3.11/dist-packages (from datasets>=3.0.0->trl) (3.18.0)\n",
      "Requirement already satisfied: pyarrow>=15.0.0 in /usr/local/lib/python3.11/dist-packages (from datasets>=3.0.0->trl) (18.1.0)\n",
      "Requirement already satisfied: dill<0.3.9,>=0.3.0 in /usr/local/lib/python3.11/dist-packages (from datasets>=3.0.0->trl) (0.3.7)\n",
      "Requirement already satisfied: pandas in /usr/local/lib/python3.11/dist-packages (from datasets>=3.0.0->trl) (2.2.2)\n",
      "Requirement already satisfied: requests>=2.32.2 in /usr/local/lib/python3.11/dist-packages (from datasets>=3.0.0->trl) (2.32.3)\n",
      "Requirement already satisfied: tqdm>=4.66.3 in /usr/local/lib/python3.11/dist-packages (from datasets>=3.0.0->trl) (4.67.1)\n",
      "Requirement already satisfied: xxhash in /usr/local/lib/python3.11/dist-packages (from datasets>=3.0.0->trl) (3.5.0)\n",
      "Requirement already satisfied: multiprocess<0.70.17 in /usr/local/lib/python3.11/dist-packages (from datasets>=3.0.0->trl) (0.70.15)\n",
      "Collecting fsspec<=2025.3.0,>=2023.1.0 (from fsspec[http]<=2025.3.0,>=2023.1.0->datasets>=3.0.0->trl)\n",
      "  Downloading fsspec-2025.3.0-py3-none-any.whl.metadata (11 kB)\n",
      "Requirement already satisfied: regex!=2019.12.17 in /usr/local/lib/python3.11/dist-packages (from transformers>=4.50.0->trl) (2024.11.6)\n",
      "Requirement already satisfied: tokenizers<0.22,>=0.21 in /usr/local/lib/python3.11/dist-packages (from transformers>=4.50.0->trl) (0.21.1)\n",
      "Requirement already satisfied: aiohttp!=4.0.0a0,!=4.0.0a1 in /usr/local/lib/python3.11/dist-packages (from fsspec[http]<=2025.3.0,>=2023.1.0->datasets>=3.0.0->trl) (3.11.15)\n",
      "Requirement already satisfied: typing-extensions>=3.7.4.3 in /usr/local/lib/python3.11/dist-packages (from huggingface-hub>=0.21.0->accelerate>=0.34.0->trl) (4.14.0)\n",
      "Requirement already satisfied: hf-xet<2.0.0,>=1.1.2 in /usr/local/lib/python3.11/dist-packages (from huggingface-hub>=0.21.0->accelerate>=0.34.0->trl) (1.1.2)\n",
      "Requirement already satisfied: charset-normalizer<4,>=2 in /usr/local/lib/python3.11/dist-packages (from requests>=2.32.2->datasets>=3.0.0->trl) (3.4.2)\n",
      "Requirement already satisfied: idna<4,>=2.5 in /usr/local/lib/python3.11/dist-packages (from requests>=2.32.2->datasets>=3.0.0->trl) (3.10)\n",
      "Requirement already satisfied: urllib3<3,>=1.21.1 in /usr/local/lib/python3.11/dist-packages (from requests>=2.32.2->datasets>=3.0.0->trl) (2.4.0)\n",
      "Requirement already satisfied: certifi>=2017.4.17 in /usr/local/lib/python3.11/dist-packages (from requests>=2.32.2->datasets>=3.0.0->trl) (2025.4.26)\n",
      "Requirement already satisfied: networkx in /usr/local/lib/python3.11/dist-packages (from torch>=2.0.0->accelerate>=0.34.0->trl) (3.5)\n",
      "Requirement already satisfied: jinja2 in /usr/local/lib/python3.11/dist-packages (from torch>=2.0.0->accelerate>=0.34.0->trl) (3.1.6)\n",
      "Requirement already satisfied: nvidia-cuda-nvrtc-cu12==12.4.127 in /usr/local/lib/python3.11/dist-packages (from torch>=2.0.0->accelerate>=0.34.0->trl) (12.4.127)\n",
      "Requirement already satisfied: nvidia-cuda-runtime-cu12==12.4.127 in /usr/local/lib/python3.11/dist-packages (from torch>=2.0.0->accelerate>=0.34.0->trl) (12.4.127)\n",
      "Requirement already satisfied: nvidia-cuda-cupti-cu12==12.4.127 in /usr/local/lib/python3.11/dist-packages (from torch>=2.0.0->accelerate>=0.34.0->trl) (12.4.127)\n",
      "Requirement already satisfied: nvidia-cudnn-cu12==9.1.0.70 in /usr/local/lib/python3.11/dist-packages (from torch>=2.0.0->accelerate>=0.34.0->trl) (9.1.0.70)\n",
      "Requirement already satisfied: nvidia-cublas-cu12==12.4.5.8 in /usr/local/lib/python3.11/dist-packages (from torch>=2.0.0->accelerate>=0.34.0->trl) (12.4.5.8)\n",
      "Requirement already satisfied: nvidia-cufft-cu12==11.2.1.3 in /usr/local/lib/python3.11/dist-packages (from torch>=2.0.0->accelerate>=0.34.0->trl) (11.2.1.3)\n",
      "Requirement already satisfied: nvidia-curand-cu12==10.3.5.147 in /usr/local/lib/python3.11/dist-packages (from torch>=2.0.0->accelerate>=0.34.0->trl) (10.3.5.147)\n",
      "Requirement already satisfied: nvidia-cusolver-cu12==11.6.1.9 in /usr/local/lib/python3.11/dist-packages (from torch>=2.0.0->accelerate>=0.34.0->trl) (11.6.1.9)\n",
      "Requirement already satisfied: nvidia-cusparse-cu12==12.3.1.170 in /usr/local/lib/python3.11/dist-packages (from torch>=2.0.0->accelerate>=0.34.0->trl) (12.3.1.170)\n",
      "Requirement already satisfied: nvidia-cusparselt-cu12==0.6.2 in /usr/local/lib/python3.11/dist-packages (from torch>=2.0.0->accelerate>=0.34.0->trl) (0.6.2)\n",
      "Requirement already satisfied: nvidia-nccl-cu12==2.21.5 in /usr/local/lib/python3.11/dist-packages (from torch>=2.0.0->accelerate>=0.34.0->trl) (2.21.5)\n",
      "Requirement already satisfied: nvidia-nvtx-cu12==12.4.127 in /usr/local/lib/python3.11/dist-packages (from torch>=2.0.0->accelerate>=0.34.0->trl) (12.4.127)\n",
      "Requirement already satisfied: nvidia-nvjitlink-cu12==12.4.127 in /usr/local/lib/python3.11/dist-packages (from torch>=2.0.0->accelerate>=0.34.0->trl) (12.4.127)\n",
      "Requirement already satisfied: triton==3.2.0 in /usr/local/lib/python3.11/dist-packages (from torch>=2.0.0->accelerate>=0.34.0->trl) (3.2.0)\n",
      "Requirement already satisfied: sympy==1.13.1 in /usr/local/lib/python3.11/dist-packages (from torch>=2.0.0->accelerate>=0.34.0->trl) (1.13.1)\n",
      "Requirement already satisfied: mpmath<1.4,>=1.1.0 in /usr/local/lib/python3.11/dist-packages (from sympy==1.13.1->torch>=2.0.0->accelerate>=0.34.0->trl) (1.3.0)\n",
      "Requirement already satisfied: python-dateutil>=2.8.2 in /usr/local/lib/python3.11/dist-packages (from pandas->datasets>=3.0.0->trl) (2.9.0.post0)\n",
      "Requirement already satisfied: pytz>=2020.1 in /usr/local/lib/python3.11/dist-packages (from pandas->datasets>=3.0.0->trl) (2025.2)\n",
      "Requirement already satisfied: tzdata>=2022.7 in /usr/local/lib/python3.11/dist-packages (from pandas->datasets>=3.0.0->trl) (2025.2)\n",
      "Requirement already satisfied: aiohappyeyeballs>=2.3.0 in /usr/local/lib/python3.11/dist-packages (from aiohttp!=4.0.0a0,!=4.0.0a1->fsspec[http]<=2025.3.0,>=2023.1.0->datasets>=3.0.0->trl) (2.6.1)\n",
      "Requirement already satisfied: aiosignal>=1.1.2 in /usr/local/lib/python3.11/dist-packages (from aiohttp!=4.0.0a0,!=4.0.0a1->fsspec[http]<=2025.3.0,>=2023.1.0->datasets>=3.0.0->trl) (1.3.2)\n",
      "Requirement already satisfied: attrs>=17.3.0 in /usr/local/lib/python3.11/dist-packages (from aiohttp!=4.0.0a0,!=4.0.0a1->fsspec[http]<=2025.3.0,>=2023.1.0->datasets>=3.0.0->trl) (25.3.0)\n",
      "Requirement already satisfied: frozenlist>=1.1.1 in /usr/local/lib/python3.11/dist-packages (from aiohttp!=4.0.0a0,!=4.0.0a1->fsspec[http]<=2025.3.0,>=2023.1.0->datasets>=3.0.0->trl) (1.6.0)\n",
      "Requirement already satisfied: multidict<7.0,>=4.5 in /usr/local/lib/python3.11/dist-packages (from aiohttp!=4.0.0a0,!=4.0.0a1->fsspec[http]<=2025.3.0,>=2023.1.0->datasets>=3.0.0->trl) (6.4.4)\n",
      "Requirement already satisfied: propcache>=0.2.0 in /usr/local/lib/python3.11/dist-packages (from aiohttp!=4.0.0a0,!=4.0.0a1->fsspec[http]<=2025.3.0,>=2023.1.0->datasets>=3.0.0->trl) (0.3.1)\n",
      "Requirement already satisfied: yarl<2.0,>=1.17.0 in /usr/local/lib/python3.11/dist-packages (from aiohttp!=4.0.0a0,!=4.0.0a1->fsspec[http]<=2025.3.0,>=2023.1.0->datasets>=3.0.0->trl) (1.20.0)\n",
      "Requirement already satisfied: six>=1.5 in /usr/local/lib/python3.11/dist-packages (from python-dateutil>=2.8.2->pandas->datasets>=3.0.0->trl) (1.17.0)\n",
      "Requirement already satisfied: MarkupSafe>=2.0 in /usr/local/lib/python3.11/dist-packages (from jinja2->torch>=2.0.0->accelerate>=0.34.0->trl) (3.0.2)\n",
      "Downloading trl-0.18.1-py3-none-any.whl (366 kB)\n",
      "\u001b[2K   \u001b[90m━━━━━━━━━━━━━━━━━━━━━━━━━━━━━━━━━━━━━━━━\u001b[0m \u001b[32m366.3/366.3 kB\u001b[0m \u001b[31m29.4 MB/s\u001b[0m eta \u001b[36m0:00:00\u001b[0m\n",
      "\u001b[?25hDownloading datasets-3.6.0-py3-none-any.whl (491 kB)\n",
      "\u001b[2K   \u001b[90m━━━━━━━━━━━━━━━━━━━━━━━━━━━━━━━━━━━━━━━━\u001b[0m \u001b[32m491.5/491.5 kB\u001b[0m \u001b[31m45.9 MB/s\u001b[0m eta \u001b[36m0:00:00\u001b[0m\n",
      "\u001b[?25hDownloading fsspec-2025.3.0-py3-none-any.whl (193 kB)\n",
      "\u001b[2K   \u001b[90m━━━━━━━━━━━━━━━━━━━━━━━━━━━━━━━━━━━━━━━━\u001b[0m \u001b[32m193.6/193.6 kB\u001b[0m \u001b[31m22.2 MB/s\u001b[0m eta \u001b[36m0:00:00\u001b[0m\n",
      "\u001b[?25hInstalling collected packages: fsspec, datasets, trl\n",
      "  Attempting uninstall: fsspec\n",
      "    Found existing installation: fsspec 2025.3.2\n",
      "    Uninstalling fsspec-2025.3.2:\n",
      "      Successfully uninstalled fsspec-2025.3.2\n",
      "  Attempting uninstall: datasets\n",
      "    Found existing installation: datasets 2.14.4\n",
      "    Uninstalling datasets-2.14.4:\n",
      "      Successfully uninstalled datasets-2.14.4\n",
      "\u001b[31mERROR: pip's dependency resolver does not currently take into account all the packages that are installed. This behaviour is the source of the following dependency conflicts.\n",
      "gcsfs 2025.3.2 requires fsspec==2025.3.2, but you have fsspec 2025.3.0 which is incompatible.\u001b[0m\u001b[31m\n",
      "\u001b[0mSuccessfully installed datasets-3.6.0 fsspec-2025.3.0 trl-0.18.1\n"
     ]
    },
    {
     "data": {
      "application/vnd.colab-display-data+json": {
       "id": "231f7e8158cc488696763023dc24e4a3",
       "pip_warning": {
        "packages": [
         "datasets",
         "fsspec"
        ]
       }
      }
     },
     "metadata": {},
     "output_type": "display_data"
    }
   ],
   "source": [
    "!pip install trl"
   ]
  },
  {
   "cell_type": "code",
   "execution_count": 51,
   "metadata": {
    "id": "DJFzybG31rKf"
   },
   "outputs": [],
   "source": [
    "from trl import SFTTrainer"
   ]
  },
  {
   "cell_type": "code",
   "execution_count": 67,
   "metadata": {
    "colab": {
     "base_uri": "https://localhost:8080/",
     "height": 219,
     "referenced_widgets": [
      "8e6301b36af34df795b93d787ff6cf2c",
      "f052c0fc601a4306ba5d00055d204782",
      "5b27d684b88d44f2ad8a23f067bd6437",
      "937df01ea2b64c4aaea0fd784e59768f",
      "4be69564c1d048a4af5f01c045ef25e3",
      "2d08f67699a34e17ad75eee9772e9a18",
      "03a19150108e4910b02e71c3127bc656",
      "ff3dc7ad6a6d45d4bc3fa35940aec3dc",
      "1ac38fab43bd4a18bfa61769edae7016",
      "8049958a70894cabb7b7bfd82ead0474",
      "86d32f3e3d8546dcba6246b274f19350",
      "6291d3fcf39d4d449197fca6cb8518f7",
      "c433169948d84831b3108137c94b628f",
      "9add7b11e0044a63b5420589933276f9",
      "155bdc1a0fd14a7293a1ded8f8250b46",
      "cafa1194ebf443cbbd92a9705ef977de",
      "1c8b4eb8d697416da224555b2e12cd9c",
      "011b6b476bcf4a839f2de874375d2c13",
      "2694434e6c5943f089e393817b6d1924",
      "7c191dd02ac84a56aa6f83dc803e5ed4",
      "74c601b0bb334f888d95e467d6852dad",
      "63386538559a496896cbc84fb02ead58",
      "458b6b126fab4db39b688e9f6ad72f45",
      "daaf411eeee0438185e3e431c7cf7c21",
      "2f141b43b8a7402d91c658dfd821b7a6",
      "af6bb33fefaf4dfda0472a3ea7ab0e0b",
      "774e3ffcffcd4dc3bb576f6020b6801c",
      "46803678f6c3454aa18a71eabdf7ebb7",
      "c7dcb4d750d94310bdc1bd932e921d64",
      "6669246da6894f738969bad201503b95",
      "2960f629d48147f2ace4eb1a514ad00e",
      "00dd414f85ec495eb1abeac4918a1ed1",
      "d6e6eb7c8e4a4abdadd46b1afdbca477",
      "f06b0bfe882444baaf2a16911b566e0f",
      "81739ca160b74929a250ff709ab763bc",
      "e2f8f64fd126415381a9f36e55b0975c",
      "ddd6ca7c4bfc40f38d2064a863446cf8",
      "12c61a7ee9e848acb2ff33b60e3594e3",
      "fbf02e239eea4927b787ff046e794ebd",
      "2c24f7dfce6349ab94c901297ab7f754",
      "cebc08d104134ba096bd4ddf60c90e3b",
      "11046985071046448c9926aacdbbcbf7",
      "e0d32ba2263f4f13a4b1f83717dd18e4",
      "287f14227bcf46dfb7634966d3352e1f"
     ]
    },
    "id": "2oDoZ8NzOryQ",
    "outputId": "64734a27-7225-47d7-b35b-5f9de3d894b1"
   },
   "outputs": [
    {
     "name": "stderr",
     "output_type": "stream",
     "text": [
      "The speedups for torchdynamo mostly come with GPU Ampere or higher and which is not detected here.\n"
     ]
    },
    {
     "data": {
      "application/vnd.jupyter.widget-view+json": {
       "model_id": "8e6301b36af34df795b93d787ff6cf2c",
       "version_major": 2,
       "version_minor": 0
      },
      "text/plain": [
       "Converting train dataset to ChatML:   0%|          | 0/901 [00:00<?, ? examples/s]"
      ]
     },
     "metadata": {},
     "output_type": "display_data"
    },
    {
     "data": {
      "application/vnd.jupyter.widget-view+json": {
       "model_id": "6291d3fcf39d4d449197fca6cb8518f7",
       "version_major": 2,
       "version_minor": 0
      },
      "text/plain": [
       "Applying chat template to train dataset:   0%|          | 0/901 [00:00<?, ? examples/s]"
      ]
     },
     "metadata": {},
     "output_type": "display_data"
    },
    {
     "data": {
      "application/vnd.jupyter.widget-view+json": {
       "model_id": "458b6b126fab4db39b688e9f6ad72f45",
       "version_major": 2,
       "version_minor": 0
      },
      "text/plain": [
       "Tokenizing train dataset:   0%|          | 0/901 [00:00<?, ? examples/s]"
      ]
     },
     "metadata": {},
     "output_type": "display_data"
    },
    {
     "name": "stderr",
     "output_type": "stream",
     "text": [
      "Token indices sequence length is longer than the specified maximum sequence length for this model (2062 > 2048). Running this sequence through the model will result in indexing errors\n"
     ]
    },
    {
     "data": {
      "application/vnd.jupyter.widget-view+json": {
       "model_id": "f06b0bfe882444baaf2a16911b566e0f",
       "version_major": 2,
       "version_minor": 0
      },
      "text/plain": [
       "Truncating train dataset:   0%|          | 0/901 [00:00<?, ? examples/s]"
      ]
     },
     "metadata": {},
     "output_type": "display_data"
    },
    {
     "name": "stderr",
     "output_type": "stream",
     "text": [
      "No label_names provided for model class `PeftModelForCausalLM`. Since `PeftModel` hides base models input arguments, if label_names is not given, label_names can't be set automatically within `Trainer`. Note that empty label_names list will be used instead.\n"
     ]
    }
   ],
   "source": [
    "trainer=SFTTrainer(\n",
    "    model=modl,\n",
    "    train_dataset=dataset,\n",
    "    peft_config=lora,\n",
    "    args=args\n",
    "    )"
   ]
  },
  {
   "cell_type": "code",
   "execution_count": 68,
   "metadata": {
    "colab": {
     "base_uri": "https://localhost:8080/",
     "height": 555
    },
    "id": "xk5dJG_aQh9e",
    "outputId": "e5631bbe-46b9-4992-8a3b-b3f7a0a56dd7"
   },
   "outputs": [
    {
     "data": {
      "text/html": [
       "\n",
       "    <div>\n",
       "      \n",
       "      <progress value='1353' max='1353' style='width:300px; height:20px; vertical-align: middle;'></progress>\n",
       "      [1353/1353 36:30, Epoch 3/3]\n",
       "    </div>\n",
       "    <table border=\"1\" class=\"dataframe\">\n",
       "  <thead>\n",
       " <tr style=\"text-align: left;\">\n",
       "      <th>Step</th>\n",
       "      <th>Training Loss</th>\n",
       "    </tr>\n",
       "  </thead>\n",
       "  <tbody>\n",
       "    <tr>\n",
       "      <td>100</td>\n",
       "      <td>1.035700</td>\n",
       "    </tr>\n",
       "    <tr>\n",
       "      <td>200</td>\n",
       "      <td>1.006600</td>\n",
       "    </tr>\n",
       "    <tr>\n",
       "      <td>300</td>\n",
       "      <td>1.002400</td>\n",
       "    </tr>\n",
       "    <tr>\n",
       "      <td>400</td>\n",
       "      <td>0.998300</td>\n",
       "    </tr>\n",
       "    <tr>\n",
       "      <td>500</td>\n",
       "      <td>0.842400</td>\n",
       "    </tr>\n",
       "    <tr>\n",
       "      <td>600</td>\n",
       "      <td>0.749600</td>\n",
       "    </tr>\n",
       "    <tr>\n",
       "      <td>700</td>\n",
       "      <td>0.814700</td>\n",
       "    </tr>\n",
       "    <tr>\n",
       "      <td>800</td>\n",
       "      <td>0.806700</td>\n",
       "    </tr>\n",
       "    <tr>\n",
       "      <td>900</td>\n",
       "      <td>0.813700</td>\n",
       "    </tr>\n",
       "    <tr>\n",
       "      <td>1000</td>\n",
       "      <td>0.593300</td>\n",
       "    </tr>\n",
       "    <tr>\n",
       "      <td>1100</td>\n",
       "      <td>0.571600</td>\n",
       "    </tr>\n",
       "    <tr>\n",
       "      <td>1200</td>\n",
       "      <td>0.587800</td>\n",
       "    </tr>\n",
       "    <tr>\n",
       "      <td>1300</td>\n",
       "      <td>0.571900</td>\n",
       "    </tr>\n",
       "  </tbody>\n",
       "</table><p>"
      ],
      "text/plain": [
       "<IPython.core.display.HTML object>"
      ]
     },
     "metadata": {},
     "output_type": "display_data"
    },
    {
     "data": {
      "text/plain": [
       "TrainOutput(global_step=1353, training_loss=0.7904815927577389, metrics={'train_runtime': 2192.862, 'train_samples_per_second': 1.233, 'train_steps_per_second': 0.617, 'total_flos': 1.6531595464802304e+16, 'train_loss': 0.7904815927577389})"
      ]
     },
     "execution_count": 68,
     "metadata": {},
     "output_type": "execute_result"
    }
   ],
   "source": [
    "trainer.train()"
   ]
  },
  {
   "cell_type": "code",
   "execution_count": 69,
   "metadata": {
    "colab": {
     "base_uri": "https://localhost:8080/"
    },
    "id": "rFNi0S_vg7Eg",
    "outputId": "de1ea1c3-ef3e-4319-c446-e798d67a1a66"
   },
   "outputs": [
    {
     "data": {
      "text/plain": [
       "('fine-tuned-model/tokenizer_config.json',\n",
       " 'fine-tuned-model/special_tokens_map.json',\n",
       " 'fine-tuned-model/chat_template.jinja',\n",
       " 'fine-tuned-model/tokenizer.model',\n",
       " 'fine-tuned-model/added_tokens.json',\n",
       " 'fine-tuned-model/tokenizer.json')"
      ]
     },
     "execution_count": 69,
     "metadata": {},
     "output_type": "execute_result"
    }
   ],
   "source": [
    "trainer.save_model(\"fine-tuned-model\")\n",
    "tokenizer.save_pretrained(\"fine-tuned-model\")\n"
   ]
  },
  {
   "cell_type": "code",
   "execution_count": 71,
   "metadata": {
    "id": "qOux_qhZhwrd"
   },
   "outputs": [],
   "source": [
    "from transformers import pipeline"
   ]
  },
  {
   "cell_type": "code",
   "execution_count": 73,
   "metadata": {
    "id": "it8V9Y49h4rb"
   },
   "outputs": [],
   "source": [
    "model = AutoModelForCausalLM.from_pretrained(\"fine-tuned-model\", device_map=\"auto\")\n",
    "tokenizer = AutoTokenizer.from_pretrained(\"fine-tuned-model\")"
   ]
  },
  {
   "cell_type": "code",
   "execution_count": 74,
   "metadata": {
    "colab": {
     "base_uri": "https://localhost:8080/"
    },
    "id": "dxz2Vw8hiQ7G",
    "outputId": "8511fd8c-c347-4df3-ea15-1902943fed20"
   },
   "outputs": [
    {
     "name": "stderr",
     "output_type": "stream",
     "text": [
      "Device set to use cuda:0\n"
     ]
    }
   ],
   "source": [
    "pipe = pipeline(\"text-generation\", model=model, tokenizer=tokenizer)"
   ]
  },
  {
   "cell_type": "code",
   "execution_count": 79,
   "metadata": {
    "colab": {
     "base_uri": "https://localhost:8080/"
    },
    "id": "ahxWthVaiUPh",
    "outputId": "d241463b-095b-4557-8480-1c9923aa1458"
   },
   "outputs": [
    {
     "name": "stdout",
     "output_type": "stream",
     "text": [
      "<|User|>\n",
      "             ###Could you provide a detailed analysis of the 1998 ISS agreement and its impact on international space law?\n",
      "          ###<|Assistant|>\n",
      "           The 1998 International Space Station (ISS) Agreement, formally known as the Agreement on the International Space Station (IISA), is a landmark agreement that established a framework for cooperation between the United States, Russia, Canada, and other countries to build, maintain, and operate a permanent human spaceflight station in low Earth orbit. This agreement has significantly impacted international space law by establishing a legal basis for the international cooperation and sharing of space resources, the peaceful use of outer space, and the protection of the ISS against unauthorized access or use.\n",
      "\n",
      "           **Key Points:**\n",
      "\n",
      "           1. **Uniform Global Law:** It establishes a global legal framework that applies to all ISS activities, including those carried out by private companies or countries. This is a significant departure from the previous legal environment, where different national legal systems had to adapt to space activities, which was a significant administrative burden and potential source of legal disputes.\n",
      "\n",
      "           2. **Access and Use Rights:** The agreement grants each partner country the right to use the ISS for activities such as research, scientific experiments, technology development, and crewed missions. These rights are granted based on a country's national interest, not national sovereignty, which has implications for international space law principles of non-appropriation and non-infringement.\n",
      "\n",
      "           3. **Liability and Damage:** It outlines a comprehensive framework for liability and damage claims, ensuring that even if a country is not the one responsible for an accident or infringement, it cannot benefit from the research conducted on the ISS, and vice versa. This approach aims to prevent collisions and ensure the safety of the station.\n",
      "\n",
      "           4. **Permanent Human Habitat:** The ISS serves as a permanent human habitat, illustrating the concept of peaceful purposes in space activities. It reinforces international cooperation and peaceful purposes by enabling scientific research, training, and experimentation without the risk of harm to the environment or to other spacecraft.\n",
      "\n",
      "           5. **Compliance and Enforcement:** The agreement establishes a framework for compliance, requiring parties to submit regular reports on their activities and the ISS's condition, ensuring that the station meets the agreed standards of safety and habitability. This model has been instrumental in ensuring the operational integrity and safety of the ISS.\n",
      "\n",
      "           6. **Future Prospects:** The ISS agreement represents a significant step forward in international space cooperation, setting a precedent for future projects and establishing a legal framework that is more conducive to commercial space activities. It shows that international cooperation can overcome the challenges posed by the unique environment of space to achieve common goals.\n",
      "\n",
      "           7. **Conclusion:** The 1998 ISS Agreement has significantly contributed to the development of international space law by establishing a framework that addresses key legal concerns, including those related to peaceful use of outer space, the protection of human lives, and the sharing of scientific resources. It serves as a model for future international space exploration and utilization activities, promoting cooperation, sustainability, and responsible space use.\n"
     ]
    }
   ],
   "source": [
    "prompt = \"\"\"<|User|>\n",
    "             ###Could you provide a detailed analysis of the 1998 ISS agreement and its impact on international space law?\n",
    "          ###<|Assistant|>\"\"\"\n",
    "response = pipe(prompt, max_new_tokens=800, do_sample=True, temperature=0.7)[0][\"generated_text\"]\n",
    "print(response)"
   ]
  }
 ],
 "metadata": {
  "accelerator": "GPU",
  "colab": {
   "gpuType": "T4",
   "provenance": []
  },
  "kernelspec": {
   "display_name": "Python 3",
   "name": "python3"
  },
  "language_info": {
   "name": "python"
  }
 },
 "nbformat": 4,
 "nbformat_minor": 0
}
